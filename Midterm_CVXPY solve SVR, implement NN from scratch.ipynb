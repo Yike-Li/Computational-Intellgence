{
 "cells": [
  {
   "cell_type": "markdown",
   "metadata": {
    "toc": true
   },
   "source": [
    "<h1>CI Midterm<span class=\"tocSkip\"></span></h1>\n",
    "<div class=\"toc\"><ul class=\"toc-item\"><li><span><a href=\"#Q1-Simple-Linear-Regression\" data-toc-modified-id=\"Q1-Simple-Linear-Regression-1\">Q1 Simple Linear Regression</a></span></li><li><span><a href=\"#Q2-Fuzzy-Linear-Regression\" data-toc-modified-id=\"Q2-Fuzzy-Linear-Regression-2\">Q2 Fuzzy Linear Regression</a></span></li><li><span><a href=\"#Q3-Support-Vector-Regression\" data-toc-modified-id=\"Q3-Support-Vector-Regression-3\">Q3 Support Vector Regression</a></span></li><li><span><a href=\"#Q4-Single-layer-NN\" data-toc-modified-id=\"Q4-Single-layer-NN-4\">Q4 Single-layer NN</a></span><ul class=\"toc-item\"><li><span><a href=\"#First-two-iterations-illustration\" data-toc-modified-id=\"First-two-iterations-illustration-4.1\">First two iterations illustration</a></span></li><li><span><a href=\"#Code\" data-toc-modified-id=\"Code-4.2\">Code</a></span></li></ul></li><li><span><a href=\"#Q5-Two-layer-NN\" data-toc-modified-id=\"Q5-Two-layer-NN-5\">Q5 Two-layer NN</a></span><ul class=\"toc-item\"><li><span><a href=\"#First-two-iterations-illustration\" data-toc-modified-id=\"First-two-iterations-illustration-5.1\">First two iterations illustration</a></span></li><li><span><a href=\"#Code\" data-toc-modified-id=\"Code-5.2\">Code</a></span></li></ul></li><li><span><a href=\"#Q6-Re-do-Q1-Q5\" data-toc-modified-id=\"Q6-Re-do-Q1-Q5-6\">Q6 Re-do Q1-Q5</a></span><ul class=\"toc-item\"><li><span><a href=\"#Simple-Linear-Regression\" data-toc-modified-id=\"Simple-Linear-Regression-6.1\">Simple Linear Regression</a></span></li><li><span><a href=\"#Fuzzy-Linear-Regression\" data-toc-modified-id=\"Fuzzy-Linear-Regression-6.2\">Fuzzy Linear Regression</a></span></li><li><span><a href=\"#Support-Vector-Regression\" data-toc-modified-id=\"Support-Vector-Regression-6.3\">Support Vector Regression</a></span></li><li><span><a href=\"#Single-layer-NN\" data-toc-modified-id=\"Single-layer-NN-6.4\">Single-layer NN</a></span><ul class=\"toc-item\"><li><span><a href=\"#First-two-iterations-illustration\" data-toc-modified-id=\"First-two-iterations-illustration-6.4.1\">First two iterations illustration</a></span></li><li><span><a href=\"#Code\" data-toc-modified-id=\"Code-6.4.2\">Code</a></span></li></ul></li><li><span><a href=\"#Two-layer-NN\" data-toc-modified-id=\"Two-layer-NN-6.5\">Two-layer NN</a></span><ul class=\"toc-item\"><li><span><a href=\"#First-two-iterations-illustration\" data-toc-modified-id=\"First-two-iterations-illustration-6.5.1\">First two iterations illustration</a></span></li><li><span><a href=\"#Code\" data-toc-modified-id=\"Code-6.5.2\">Code</a></span></li></ul></li></ul></li><li><span><a href=\"#Q7-Discussion\" data-toc-modified-id=\"Q7-Discussion-7\">Q7 Discussion</a></span><ul class=\"toc-item\"><li><span><a href=\"#Discussion-of-Convergence-Issue\" data-toc-modified-id=\"Discussion-of-Convergence-Issue-7.1\">Discussion of Convergence Issue</a></span></li></ul></li><li><span><a href=\"#Q8-Bonus-Question\" data-toc-modified-id=\"Q8-Bonus-Question-8\">Q8 Bonus Question</a></span><ul class=\"toc-item\"><li><span><a href=\"#Simple-Linear-Regression\" data-toc-modified-id=\"Simple-Linear-Regression-8.1\">Simple Linear Regression</a></span></li><li><span><a href=\"#Fuzzy-Linear-Regression\" data-toc-modified-id=\"Fuzzy-Linear-Regression-8.2\">Fuzzy Linear Regression</a></span></li><li><span><a href=\"#Support-Vector-Regression\" data-toc-modified-id=\"Support-Vector-Regression-8.3\">Support Vector Regression</a></span></li><li><span><a href=\"#Single-layer-NN\" data-toc-modified-id=\"Single-layer-NN-8.4\">Single-layer NN</a></span></li></ul></li></ul></div>"
   ]
  },
  {
   "cell_type": "markdown",
   "metadata": {},
   "source": [
    "## Q1 Simple Linear Regression"
   ]
  },
  {
   "cell_type": "markdown",
   "metadata": {},
   "source": [
    "First, the training data has been visualized as below. "
   ]
  },
  {
   "cell_type": "code",
   "execution_count": 1,
   "metadata": {
    "ExecuteTime": {
     "end_time": "2019-10-12T18:21:37.670974Z",
     "start_time": "2019-10-12T18:21:36.801474Z"
    }
   },
   "outputs": [
    {
     "data": {
      "image/png": "[encoded data removed]",
      "text/plain": [
       "<Figure size 432x288 with 1 Axes>"
      ]
     },
     "metadata": {
      "needs_background": "light"
     },
     "output_type": "display_data"
    }
   ],
   "source": [
    "%matplotlib inline\n",
    "import numpy as np\n",
    "import pandas as pd\n",
    "import cvxpy as cp\n",
    "import matplotlib.pyplot as plt\n",
    "\n",
    "ar = np.array([[1, 1, 1, 1, 1, 1],  # intercept\n",
    "               [1, 2, 3, 4, 5, 6],  # x\n",
    "               [1, 2, 3, 4, 5, 6]])  # y\n",
    "\n",
    "# plot the dot points\n",
    "plt.scatter(x=ar[1], y=ar[2], c='blue')\n",
    "plt.title('Visualization of training observations')\n",
    "plt.axis('scaled')\n",
    "plt.show()"
   ]
  },
  {
   "cell_type": "markdown",
   "metadata": {},
   "source": [
    "The data has been processed and the optimization problem (least sum of square) has been formulated. The estimate of $a$ (the slope) is very close to 1 and $b$ (intercept) is very close to 0. The fitted line has been plotted above the training set as well. "
   ]
  },
  {
   "cell_type": "code",
   "execution_count": 2,
   "metadata": {
    "ExecuteTime": {
     "end_time": "2019-10-12T18:21:39.512803Z",
     "start_time": "2019-10-12T18:21:39.321913Z"
    }
   },
   "outputs": [
    {
     "name": "stdout",
     "output_type": "stream",
     "text": [
      "\n",
      "The optimal value of loss is: 2.0532810769192338e-17\n",
      "\n",
      "The estimated of a (slope) is: 0.9999999990246303 \n",
      "The estimate of b (intercept) is: 4.218391830290713e-09\n"
     ]
    },
    {
     "data": {
      "image/png": "[encoded data removed]",
      "text/plain": [
       "<Figure size 432x288 with 1 Axes>"
      ]
     },
     "metadata": {
      "needs_background": "light"
     },
     "output_type": "display_data"
    }
   ],
   "source": [
    "# Data preprocessing\n",
    "X_lp = ar[[0, 1], :].T  # transpose the array before modeling\n",
    "y_lp = ar[2].T\n",
    "\n",
    "# Define and solve the CVXPY problem.\n",
    "beta = cp.Variable(X_lp.shape[1])  # return num of cols, 2 in total\n",
    "cost = cp.sum_squares(X_lp * beta - y_lp)  # define cost function\n",
    "obj = cp.Minimize(cost)  # define objective function\n",
    "prob = cp.Problem(obj)\n",
    "prob.solve(solver=cp.CPLEX, verbose=False)\n",
    "# print(\"status:\", prob.status)\n",
    "print(\"\\nThe optimal value of loss is:\", prob.value)\n",
    "print(\"\\nThe estimated of a (slope) is:\", beta.value[1],\n",
    "      \"\\nThe estimate of b (intercept) is:\", beta.value[0])\n",
    "\n",
    "x = np.linspace(0, 10, 100)\n",
    "y = beta.value[1] * x + beta.value[0]\n",
    "plt.close('all')\n",
    "plt.plot(x, y, c='red', label='y = ax + b')\n",
    "plt.title('Fitted line using simple LR')\n",
    "plt.legend(loc='upper left')\n",
    "plt.scatter(x=ar[1], y=ar[2], c='blue')\n",
    "plt.axis('scaled')\n",
    "plt.show()"
   ]
  },
  {
   "cell_type": "markdown",
   "metadata": {},
   "source": [
    "## Q2 Fuzzy Linear Regression"
   ]
  },
  {
   "cell_type": "markdown",
   "metadata": {},
   "source": [
    "Same as HW2, the optimization problem has been formulated as below. Here I pick the threshold $\\alpha$ as $0.5$ for spread calculation. Similar to Q1, The estimate of $A_1$ (the slope) is 1 and $A_0$ (intercept) is 0. The spread of $A_1$ and $A_0$ have both been calculated. As expected, both spreads are 0 since the regression line fits perfectly to the training data and there is no need of spreads to cover any errors between the estimate $\\hat{y}$ and the true values $y$.  \n",
    "\n",
    "The fitted line has been plotted above the training set as well."
   ]
  },
  {
   "cell_type": "code",
   "execution_count": 3,
   "metadata": {
    "ExecuteTime": {
     "end_time": "2019-10-12T18:21:43.345561Z",
     "start_time": "2019-10-12T18:21:43.176676Z"
    }
   },
   "outputs": [
    {
     "name": "stdout",
     "output_type": "stream",
     "text": [
      "\n",
      "The optimal value of loss is: 0.0\n",
      "\n",
      "The center of A1 (slope) is: 1.0 \n",
      "The spread of A1 (slope) is: 0.0 \n",
      "The center of A0 (intercept) is: 0.0 \n",
      "The spread of A0 (intercept) is: 0.0\n"
     ]
    },
    {
     "data": {
      "image/png": "[encoded data removed]",
      "text/plain": [
       "<Figure size 432x288 with 1 Axes>"
      ]
     },
     "metadata": {
      "needs_background": "light"
     },
     "output_type": "display_data"
    }
   ],
   "source": [
    "# Define threshold h (it has same meaning as the alpha in alpha-cut). Higher the h, wider the spread.\n",
    "h = 0.5\n",
    "# Define and solve the CVXPY problem.\n",
    "c = cp.Variable(X_lp.shape[1])  # for spread variables, A0 and A1\n",
    "alpha = cp.Variable(X_lp.shape[1])  # for center/core variables, A0 and A1\n",
    "cost = cp.sum(X_lp * c)  # define cost function\n",
    "obj = cp.Minimize(cost)  # define objective function\n",
    "constraints = [c >= 0,\n",
    "               y_lp <= (1 - h) * abs(X_lp) * c + X_lp * alpha,  # abs operate on each elements of X_lp\n",
    "               -y_lp <= (1 - h) * abs(X_lp) * c - X_lp * alpha]\n",
    "\n",
    "prob = cp.Problem(obj, constraints)\n",
    "prob.solve(solver=cp.CPLEX, verbose=False)\n",
    "# print(\"status:\", prob.status)\n",
    "print(\"\\nThe optimal value of loss is:\", prob.value)\n",
    "print(\"\\nThe center of A1 (slope) is:\", alpha.value[1],\n",
    "      \"\\nThe spread of A1 (slope) is:\", c.value[1],\n",
    "      \"\\nThe center of A0 (intercept) is:\", alpha.value[0],\n",
    "      \"\\nThe spread of A0 (intercept) is:\", c.value[0])\n",
    "\n",
    "x = np.linspace(0, 10, 100)\n",
    "y = alpha.value[1] * x + alpha.value[0]\n",
    "plt.close('all')\n",
    "plt.plot(x, y, c='red', label='y = A1x + A0')\n",
    "plt.title('Fitted line using Fuzzy LR')\n",
    "plt.legend(loc='upper left')\n",
    "plt.scatter(x=ar[1], y=ar[2], c='blue')\n",
    "plt.axis('scaled')\n",
    "plt.show()"
   ]
  },
  {
   "cell_type": "markdown",
   "metadata": {},
   "source": [
    "## Q3 Support Vector Regression"
   ]
  },
  {
   "cell_type": "markdown",
   "metadata": {},
   "source": [
    "In the course lecture, it was mentioned that the objective function of SVR is to ***minimize the sum of squares plus seek for flatness of the hyperplane.*** In $\\epsilon$-SV regression, our goal is to find a function $f(x)$ that has at most $\\epsilon$ deviation from the actually obtained targets $y_i$ for all the training data, and at the same time is as flat as possible. Flatness in the case means that one seeks a small $w$ and the approach here is to minimize the L2-norm. The problem can be written as a convex optimization problem:"
   ]
  },
  {
   "attachments": {
    "image.png": {
     "image/png": "[encoded data removed]"
    }
   },
   "cell_type": "markdown",
   "metadata": {},
   "source": [
    "![image.png](attachment:image.png)"
   ]
  },
  {
   "cell_type": "markdown",
   "metadata": {},
   "source": [
    "Sometimes the convex optimization problem does not render feasible solution. We also may want to allow for some errors. Similarly to the loss function of “soft margin” in SVM, we introduce slack variables $ξ_i$, $ξ_i^*$ to cope with otherwise infeasible constraints of the optimization problem:"
   ]
  },
  {
   "attachments": {
    "image.png": {
     "image/png": "[encoded data removed]"
    }
   },
   "cell_type": "markdown",
   "metadata": {},
   "source": [
    "![image.png](attachment:image.png)"
   ]
  },
  {
   "cell_type": "markdown",
   "metadata": {},
   "source": [
    "Here the constent $C$ should be $>0$ and determines the trade-off between the flatness of $f(x)$ and the amount up to which deviations larger than $\\epsilon$ are tolerated. The optimization problem is formulated with slack variables and in the program below, I defined $C$ as $\\frac{1}{N}$ where $N=6$ is the # of observations in the training set. The $\\epsilon$ here has been set to 0. \n",
    "\n",
    "From the output below, the estimated $w$ is very close to 1 and $b$ is very close to 0. "
   ]
  },
  {
   "cell_type": "code",
   "execution_count": 5,
   "metadata": {
    "ExecuteTime": {
     "end_time": "2019-10-06T21:08:20.800338Z",
     "start_time": "2019-10-06T21:08:20.766361Z"
    }
   },
   "outputs": [
    {
     "name": "stdout",
     "output_type": "stream",
     "text": [
      "\n",
      "The estimate of w is: 0.9999999970629421 \n",
      "The estimate of b is: 9.380686338580135e-09\n"
     ]
    }
   ],
   "source": [
    "# The constant C, defines the trade-off between the flatness of f and the amount up to which deviations larger than ε are tolerated.\n",
    "# When C gets bigger, the margin get softer. Here C is defined as 1/N. N is the # of observations.\n",
    "C = 1 / len(ar[1])\n",
    "epsilon = 0  # For this ε-SVR problem set ε=0\n",
    "# Define and solve the CVXPY problem.\n",
    "bw = cp.Variable(X_lp.shape[1])  # for b and w parameters in SVR. bw[0]=b, bw[1]=w\n",
    "epsilon1 = cp.Variable(X_lp.shape[0])  # for slack variables ξi\n",
    "epsilon2 = cp.Variable(X_lp.shape[0])  # for slack variables ξ*i\n",
    "cost = 1 / 2 * bw[1] ** 2 + C * cp.sum(epsilon1 + epsilon2)  # define cost function\n",
    "obj = cp.Minimize(cost)  # define objective function\n",
    "constraints = [epsilon1 >= 0,\n",
    "               epsilon2 >= 0,\n",
    "               y_lp <= X_lp * bw + epsilon + epsilon1,\n",
    "               -y_lp <= -(X_lp * bw) + epsilon + epsilon2]\n",
    "\n",
    "prob = cp.Problem(obj, constraints)\n",
    "prob.solve(solver=cp.CPLEX, verbose=False)\n",
    "# print(\"status:\", prob.status)\n",
    "print(\"\\nThe estimate of w is:\", bw.value[1],\n",
    "      \"\\nThe estimate of b is:\", bw.value[0], )"
   ]
  },
  {
   "cell_type": "markdown",
   "metadata": {},
   "source": [
    "The fitted line has been plotted above the training set as well:"
   ]
  },
  {
   "cell_type": "code",
   "execution_count": 6,
   "metadata": {
    "ExecuteTime": {
     "end_time": "2019-10-06T21:08:26.757655Z",
     "start_time": "2019-10-06T21:08:26.604757Z"
    }
   },
   "outputs": [
    {
     "data": {
      "image/png": "[encoded data removed]",
      "text/plain": [
       "<Figure size 432x288 with 1 Axes>"
      ]
     },
     "metadata": {
      "needs_background": "light"
     },
     "output_type": "display_data"
    }
   ],
   "source": [
    "x = np.linspace(0, 10, 100)\n",
    "y = bw.value[1] * x + bw.value[0]\n",
    "plt.close('all')\n",
    "plt.plot(x, y, c='red', label='y = wx + b')\n",
    "plt.title('Fitted line using SVR')\n",
    "plt.legend(loc='upper left')\n",
    "plt.scatter(x=ar[1], y=ar[2], c='blue')\n",
    "plt.axis('scaled')\n",
    "plt.show()"
   ]
  },
  {
   "cell_type": "markdown",
   "metadata": {},
   "source": [
    "## Q4 Single-layer NN"
   ]
  },
  {
   "cell_type": "markdown",
   "metadata": {},
   "source": [
    "### First two iterations illustration"
   ]
  },
  {
   "cell_type": "markdown",
   "metadata": {},
   "source": [
    "From the NN archiecture on Lecture 7 page 13, the network output $a$ can be denoted as:\n",
    "\n",
    "$$a=f(x)=f(wp+b)$$\n",
    "where\n",
    "$$x=wp+b\\quad f(x)=5x\\quad \\frac{\\partial f}{\\partial x}=5$$\n",
    "Since $b=1$,\n",
    "$$a=f(x)=f(wp+b)=5(wp+1)$$"
   ]
  },
  {
   "cell_type": "markdown",
   "metadata": {},
   "source": [
    "Set the loss function $E$ as:\n",
    "$$ E=\\sum_{i=1}^N \\frac{1}{2}(T_i-a_i)^2 $$\n",
    "where $T_i$ is the target value for each input $i$ and $N$ is the number of observations in the training set. \n",
    "\n",
    "We can find the gradient for $w$ by:\n",
    "\n",
    "$$\\frac{\\partial E}{\\partial w}=\\frac{\\partial E}{\\partial a}\\frac{\\partial a}{\\partial x}\\frac{\\partial x}{\\partial w}$$"
   ]
  },
  {
   "cell_type": "markdown",
   "metadata": {},
   "source": [
    "**For the 1st iteration**, with initial value $w=10$:\n",
    "\n",
    "$$\n",
    "\\frac{\\partial E}{\\partial a}=a-T=5(wp_i+1)-T_i\\\\\n",
    "\\frac{\\partial f}{\\partial x}=5$$\n",
    "$$\\frac{\\partial x_1}{\\partial w}=p_1=1$$\n",
    "$$\\vdots$$\n",
    "$$\\frac{\\partial x_6}{\\partial w}=p_6=6$$\n",
    "\n",
    "For $i=1$,\n",
    "$$\n",
    "\\frac{\\partial E}{\\partial a}=a_i-T_i=5(wp_i+1)-T_i=5(10*1+1)-1=54\\\\\n",
    "\\frac{\\partial E}{\\partial w}=54*5*1$$\n",
    "For $i=2$,\n",
    "$$\n",
    "\\frac{\\partial E}{\\partial a}=a_i-T_i=5(wp_i+1)-T_i=5(10*2+1)-2=103\\\\\n",
    "\\frac{\\partial E}{\\partial w}=103*5*2$$\n",
    "For $i=3$,\n",
    "$$\n",
    "\\frac{\\partial E}{\\partial a}=a_i-T_i=5(wp_i+1)-T_i=5(10*3+1)-3=152\\\\\n",
    "\\frac{\\partial E}{\\partial w}=152*5*3$$\n",
    "For $i=4$,\n",
    "$$\n",
    "\\frac{\\partial E}{\\partial a}=a_i-T_i=5(wp_i+1)-T_i=5(10*4+1)-4=201\\\\\n",
    "\\frac{\\partial E}{\\partial w}=201*5*4$$\n",
    "For $i=5$,\n",
    "$$\n",
    "\\frac{\\partial E}{\\partial a}=a_i-T_i=5(wp_i+1)-T_i=5(10*5+1)-5=250\\\\\n",
    "\\frac{\\partial E}{\\partial w}=250*5*5$$\n",
    "For $i=6$,\n",
    "$$\n",
    "\\frac{\\partial E}{\\partial a}=a_i-T_i=5(wp_i+1)-T_i=5(10*6+1)-6=299\\\\\n",
    "\\frac{\\partial E}{\\partial w}=299*5*6$$\n",
    "\n",
    "The sum of gradient for the batch training is:\n",
    "$$\\sum_{i}(\\frac{\\partial E}{\\partial w})=(54*1+103*2+152*3+201*4+250*5+299*6)*5=22820\n",
    "$$\n",
    "Average the sum of gradient by $N=6$ and the step size (learning rate=0.1) can be calculated as:\n",
    "$$s_1=0.1*\\frac{\\sum_{i}(\\frac{\\partial E}{\\partial w})}{N}=380.333\n",
    "$$."
   ]
  },
  {
   "cell_type": "markdown",
   "metadata": {},
   "source": [
    "The new $w$ and output $a$ is calculated:\n",
    "$$w=10-380.333=-370.333\\\\\n",
    "a=[-1846.667,-3698.333,-5550,-7401.667,-9253.333, -11105]\n",
    "$$"
   ]
  },
  {
   "cell_type": "markdown",
   "metadata": {},
   "source": [
    "**For the 2nd iteration:**\n",
    "\n",
    "For $i=1$,\n",
    "$$\n",
    "\\frac{\\partial E}{\\partial a}=a_i-T_i=5(wp_i+1)-T_i=5(-370.333*1+1)-1=-1847.667\\\\\n",
    "\\frac{\\partial E}{\\partial w}=-1847.667*5*1$$\n",
    "For $i=2$,\n",
    "$$\n",
    "\\frac{\\partial E}{\\partial a}=a_i-T_i=5(wp_i+1)-T_i=5(-370.333*2+1)-2=-3700.333\\\\\n",
    "\\frac{\\partial E}{\\partial w}=-3700.333*5*2$$\n",
    "For $i=3$,\n",
    "$$\n",
    "\\frac{\\partial E}{\\partial a}=a_i-T_i=5(wp_i+1)-T_i=5(-370.333*3+1)-3=-5553\\\\\n",
    "\\frac{\\partial E}{\\partial w}=-5553*5*3$$\n",
    "For $i=4$,\n",
    "$$\n",
    "\\frac{\\partial E}{\\partial a}=a_i-T_i=5(wp_i+1)-T_i=5(-370.333*4+1)-4=-7405.667\\\\\n",
    "\\frac{\\partial E}{\\partial w}=-7405.667*5*4$$\n",
    "For $i=5$,\n",
    "$$\n",
    "\\frac{\\partial E}{\\partial a}=a_i-T_i=5(wp_i+1)-T_i=5(-370.333*5+1)-5=-9258.333\\\\\n",
    "\\frac{\\partial E}{\\partial w}=-9258.333*5*5$$\n",
    "For $i=6$,\n",
    "$$\n",
    "\\frac{\\partial E}{\\partial a}=a_i-T_i=5(wp_i+1)-T_i=5(-370.333*6+1)-6=-11111\\\\\n",
    "\\frac{\\partial E}{\\partial w}=-11111*5*6$$\n",
    "\n",
    "The sum of gradient for the batch training is:\n",
    "$$\\sum_{i}(\\frac{\\partial E}{\\partial w})=(-1847.667*1+-3700.333*2+-5553*3+-7405.667*4+-9258.333*5+-11111*6)*5=-842438.333\n",
    "$$\n",
    "Average the sum of gradient by $N=6$ and the step size (learning rate=0.1) can be calculated as:\n",
    "$$s_1=0.1*\\frac{\\sum_{i}(\\frac{\\partial E}{\\partial w})}{N}=-14040.639\n",
    "$$."
   ]
  },
  {
   "cell_type": "markdown",
   "metadata": {},
   "source": [
    "The new $w$ and output $a$ is calculated:\n",
    "$$w=-370.333-(-14040.638)=-13670.305\\\\\n",
    "a=[68356.528, 136708.056, 205059.583, 273411.111, 341762.639, 410114.167]\n",
    "$$"
   ]
  },
  {
   "cell_type": "markdown",
   "metadata": {},
   "source": [
    "### Code"
   ]
  },
  {
   "cell_type": "markdown",
   "metadata": {},
   "source": [
    "**We can tell from the above that throughout the first 2 iterations, the updated fit $a$ more and more far away from the actual value. This is because of the learning rate=0.1 was set to be too large and cause the result to be oscillating and won't be able to converge.** Further discussion has been made in Q7 to explore for a proper learning rate in this case. \n",
    "\n",
    "From the code below, after 30 iterations the loss function value becomes larger and larger and won't be able to converge, which further proves the findings. "
   ]
  },
  {
   "cell_type": "code",
   "execution_count": 4,
   "metadata": {
    "ExecuteTime": {
     "end_time": "2019-10-12T18:22:07.013100Z",
     "start_time": "2019-10-12T18:22:06.981120Z"
    }
   },
   "outputs": [
    {
     "name": "stdout",
     "output_type": "stream",
     "text": [
      "Iteration= 0 , Loss value= 114465.5\n",
      "Iteration= 1 , Loss value= 155978551.88888893\n",
      "Iteration= 2 , Loss value= 212573833341.70184\n",
      "Iteration= 3 , Loss value= 289704182060049.94\n",
      "Iteration= 4 , Loss value= 3.948205279520827e+17\n",
      "Iteration= 5 , Loss value= 5.3807731798658535e+20\n",
      "Iteration= 6 , Loss value= 7.333134415107596e+23\n",
      "Iteration= 7 , Loss value= 9.993890943267017e+26\n",
      "Iteration= 8 , Loss value= 1.3620077109202842e+30\n",
      "Iteration= 9 , Loss value= 1.8561989670860753e+33\n",
      "Iteration= 10 , Loss value= 2.5297027159144115e+36\n",
      "Iteration= 11 , Loss value= 3.4475807520519955e+39\n",
      "Iteration= 12 , Loss value= 4.6985019097878616e+42\n",
      "Iteration= 13 , Loss value= 6.403307647874708e+45\n",
      "Iteration= 14 , Loss value= 8.726685573526139e+48\n",
      "Iteration= 15 , Loss value= 1.1893078591103693e+52\n",
      "Iteration= 16 , Loss value= 1.6208366530732709e+55\n",
      "Iteration= 17 , Loss value= 2.2089414745067798e+58\n",
      "Iteration= 18 , Loss value= 3.010434412711674e+61\n",
      "Iteration= 19 , Loss value= 4.10274127125176e+64\n",
      "Iteration= 20 , Loss value= 5.591381053763105e+67\n",
      "Iteration= 21 , Loss value= 7.620159308471914e+70\n",
      "Iteration= 22 , Loss value= 1.0385060028668781e+74\n",
      "Iteration= 23 , Loss value= 1.4153178094209863e+77\n",
      "Iteration= 24 , Loss value= 1.9288521165351336e+80\n",
      "Iteration= 25 , Loss value= 2.628717354290996e+83\n",
      "Iteration= 26 , Loss value= 3.582521889321206e+86\n",
      "Iteration= 27 , Loss value= 4.882405126787482e+89\n",
      "Iteration= 28 , Loss value= 6.653938359214699e+92\n",
      "Iteration= 29 , Loss value= 9.068255201788373e+95\n"
     ]
    }
   ],
   "source": [
    "def single_layer_NN(lr, w, maxiteration):\n",
    "    \"\"\"lr - learning rate\\n\n",
    "    w - initial value of w\\n\n",
    "    maxiteration - define # of max iteration \"\"\"\n",
    "    E0 = sum(0.5 * np.power((y_lp - 5 * (w * X_lp[:, 1] + 1)), 2))  # initialize Loss, before 1st iteration\n",
    "    for i in range(maxiteration):\n",
    "        if i > 0:  # Starting 2nd iteration, E1 value give to E0\n",
    "            E0 = E1  # Loss before iteration\n",
    "        print(\"Iteration=\", i, \",\", \"Loss value=\", E0)\n",
    "        gradient = np.mean((5 * (w * X_lp[:, 1] + 1) - y_lp) * 5 * X_lp[:, 1])  # calculate gradient\n",
    "        step = gradient * lr  # calculate step size\n",
    "        w = w - step  # refresh the weight\n",
    "        E1 = sum(0.5 * np.power((5 * (w * X_lp[:, 1] + 1) - y_lp), 2))  # Loss after iteration\n",
    "        a = 5 * (w * X_lp[:, 1] + 1) # the refreshed output\n",
    "\n",
    "        if abs(E0 - E1) <= 0.0001:\n",
    "            print('Break out of the loop and end at Iteration=', i,\n",
    "                  '\\nThe value of loss is:', E1,\n",
    "                  '\\nThe value of w is:', w)\n",
    "            break\n",
    "    return w, a, gradient\n",
    "\n",
    "w, a, gradient = single_layer_NN(lr=0.1, w=10, maxiteration=30)"
   ]
  },
  {
   "cell_type": "markdown",
   "metadata": {},
   "source": [
    "## Q5 Two-layer NN"
   ]
  },
  {
   "cell_type": "markdown",
   "metadata": {},
   "source": [
    "### First two iterations illustration"
   ]
  },
  {
   "attachments": {
    "image.png": {
     "image/png": "[encoded data removed]"
    }
   },
   "cell_type": "markdown",
   "metadata": {},
   "source": [
    "![image.png](attachment:image.png)"
   ]
  },
  {
   "cell_type": "markdown",
   "metadata": {},
   "source": [
    "The above structure will be used to model Q5, with $b_1=b_2=1$ and initial values $w_1=w_2=1$. For $f_1$, the activation function is sigmoid activation function. Since the sample data implies linear relationship, for $f_2$, a linear activation function (specifically, an **identify activation function**) has been chosen. The loss function $E$ has been the same as Q4:\n",
    "$$\n",
    "E=\\sum_{i=1}^N \\frac{1}{2}(T_i-a_2)^2\n",
    "$$\n",
    "where $T_i$ is the target value for each input $i$ and $N$ is the number of observations in the training set. \n",
    "\n",
    "The output $a_1$ and $a_2$ can be denoted as:\n",
    "$$\n",
    "a_1=f_1(w_1p+b) \\quad a_2=f_2(w_2a_1+b)\n",
    "$$\n",
    "where\n",
    "$$\n",
    "f_1(x)=\\frac{1}{1+e^{-x}} \\quad \\frac{\\partial f_1}{\\partial x}=f_1(1-f_1)\\\\\n",
    "and \\quad f_2(x)=x \\quad \\frac{\\partial f_2}{\\partial x}=1\n",
    "$$"
   ]
  },
  {
   "cell_type": "markdown",
   "metadata": {},
   "source": [
    "We can find the gradient for $w_1$ and $w_2$ by:\n",
    "\n",
    "$$\n",
    "\\frac{\\partial E}{\\partial w_2}=\\frac{\\partial E}{\\partial a_2}\\frac{\\partial a_2}{\\partial n_2}\\frac{\\partial n_2}{\\partial w_2}=(w_2a_1+b-T)*1*a_1=(w_2a_1+1-T)a_1\n",
    "\\\\\n",
    "\\frac{\\partial E}{\\partial w_1}=\\frac{\\partial E}{\\partial a_2}\\frac{\\partial a_2}{\\partial a_1}\\frac{\\partial a_1}{\\partial n_1}\\frac{\\partial n_1}{\\partial w_1}=(w_2a_1+b-T)*w_2*a_1(1-a_1)*p\\\\=\\frac{\\partial E}{\\partial w_2}*w_2*(1-a_1)*p\n",
    "$$\n",
    "where\n",
    "$$\n",
    "a_1=f_1(w_1p+b)=\\frac{1}{1+e^{-(w_1p+1)}}\n",
    "$$\n",
    "\n",
    "**We can see that the gradient of $w_1$ can be calculated from the gradient of $w_2$ and the gradient of both weights ($w_1$ and $w_2$) only relate to the input and the initial values of the weights!**"
   ]
  },
  {
   "cell_type": "markdown",
   "metadata": {},
   "source": [
    "**For the 1st iteration**, \n",
    "\n",
    "$$\n",
    "For\\quad i=1, 2, 3, 4, 5, 6, \\quad a_1=\\frac{1}{1+e^{-(w_1p_i+1)}}\\approx1\\\\\n",
    "$$\n",
    "\n",
    "For $i=1:$\n",
    "$$\n",
    "\\frac{\\partial E}{\\partial a_2}=a_2-T_i=(w_2a_1+1)-T_i=(10*1+1)-1=10\\\\\n",
    "\\frac{\\partial E}{\\partial w_2}=10*1*1=10,\\quad \\frac{\\partial E}{\\partial w_1}=10*10*(1-1)*1=0\n",
    "$$\n",
    "For $i=2:$\n",
    "$$\n",
    "\\frac{\\partial E}{\\partial a_2}=a_2-T_i=(w_2a_1+1)-T_i=(10*1+1)-2=9\\\\\n",
    "\\frac{\\partial E}{\\partial w_2}=9*1*1=9,\\quad \\frac{\\partial E}{\\partial w_1}=9*10*(1-1)*1=0\n",
    "$$\n",
    "For $i=3:$\n",
    "$$\n",
    "\\frac{\\partial E}{\\partial a_2}=a_2-T_i=(w_2a_1+1)-T_i=(10*1+1)-3=8\\\\\n",
    "\\frac{\\partial E}{\\partial w_2}=8*1*1=8,\\quad \\frac{\\partial E}{\\partial w_1}=8*10*(1-1)*1=0\n",
    "$$\n",
    "For $i=4:$\n",
    "$$\n",
    "\\frac{\\partial E}{\\partial a_2}=a_2-T_i=(w_2a_1+1)-T_i=(10*1+1)-4=7\\\\\n",
    "\\frac{\\partial E}{\\partial w_2}=7*1*1=7,\\quad \\frac{\\partial E}{\\partial w_1}=7*10*(1-1)*1=0\n",
    "$$\n",
    "For $i=5:$\n",
    "$$\n",
    "\\frac{\\partial E}{\\partial a_2}=a_2-T_i=(w_2a_1+1)-T_i=(10*1+1)-5=6\\\\\n",
    "\\frac{\\partial E}{\\partial w_2}=6*1*1=6,\\quad \\frac{\\partial E}{\\partial w_1}=6*10*(1-1)*1=0\n",
    "$$\n",
    "For $i=6:$\n",
    "$$\n",
    "\\frac{\\partial E}{\\partial a_2}=a_2-T_i=(w_2a_1+1)-T_i=(10*1+1)-6=5\\\\\n",
    "\\frac{\\partial E}{\\partial w_2}=5*1*1=5,\\quad \\frac{\\partial E}{\\partial w_1}=5*10*(1-1)*1=0\n",
    "$$"
   ]
  },
  {
   "cell_type": "markdown",
   "metadata": {},
   "source": [
    "The sum of gradient for the batch training is:\n",
    "$$\\sum_{i}(\\frac{\\partial E}{\\partial w_1})=0$$\n",
    "$$\\sum_{i}(\\frac{\\partial E}{\\partial w_2})=10+9+8+7+6+5=45$$\n",
    "Average the sum of gradient by $N=6$ and the step size (learning rate=0.1) can be calculated as:\n",
    "$$s_1=0.1*\\frac{\\sum_{i}(\\frac{\\partial E}{\\partial w_1})}{N}=0$$\n",
    "\n",
    "$$s_2=0.1*\\frac{\\sum_{i}(\\frac{\\partial E}{\\partial w_2})}{N}=0.75$$"
   ]
  },
  {
   "cell_type": "markdown",
   "metadata": {},
   "source": [
    "The new weight $w_1$, $w_2$ and output $a_1$ and $a_2$ can be calculated. The value of $a_1$ and $a_2$ are both for all 6 observations. \n",
    "$$\n",
    "w_1=w_1-s_1=10-0=10,\\\\\n",
    "w_2=w_2-s_2=10-0.75=9.25\\\\\n",
    "a_1=\\frac{1}{1+e^{-(w_1p_i+1)}}\\approx1, \\quad i\\in [1,2,3,4,5,6]\\\\\n",
    "a_2=w_2a_1+b=9.25*1+1=10.25\n",
    "$$"
   ]
  },
  {
   "cell_type": "markdown",
   "metadata": {},
   "source": [
    "**For the 2nd iteration**, \n",
    "\n",
    "$$\n",
    "For\\quad i=1, 2, 3, 4, 5, 6, \\quad a_1=\\frac{1}{1+e^{-(w_1p_i+1)}}\\approx1\\\\\n",
    "$$\n",
    "\n",
    "For $i=1:$\n",
    "$$\n",
    "\\frac{\\partial E}{\\partial a_2}=a_2-T_i=(w_2a_1+1)-T_i=(9.25*1+1)-1=9.25\\\\\n",
    "\\frac{\\partial E}{\\partial w_2}=9.25*1*1=9.25,\\quad \\frac{\\partial E}{\\partial w_1}=9.25*9.25*(1-1)*1=0\n",
    "$$\n",
    "For $i=2:$\n",
    "$$\n",
    "\\frac{\\partial E}{\\partial a_2}=a_2-T_i=(w_2a_1+1)-T_i=(9.25*1+1)-2=8.25\\\\\n",
    "\\frac{\\partial E}{\\partial w_2}=8.25*1*1=8.25,\\quad \\frac{\\partial E}{\\partial w_1}=8.25*9.25*(1-1)*1=0\n",
    "$$\n",
    "For $i=3:$\n",
    "$$\n",
    "\\frac{\\partial E}{\\partial a_2}=a_2-T_i=(w_2a_1+1)-T_i=(9.25*1+1)-3=7.25\\\\\n",
    "\\frac{\\partial E}{\\partial w_2}=7.25*1*1=7.25,\\quad \\frac{\\partial E}{\\partial w_1}=7.25*9.25*(1-1)*1=0\n",
    "$$\n",
    "For $i=4:$\n",
    "$$\n",
    "\\frac{\\partial E}{\\partial a_2}=a_2-T_i=(w_2a_1+1)-T_i=(9.25*1+1)-4=6.25\\\\\n",
    "\\frac{\\partial E}{\\partial w_2}=6.25*1*1=6.25,\\quad \\frac{\\partial E}{\\partial w_1}=6.25*9.25*(1-1)*1=0\n",
    "$$\n",
    "For $i=5:$\n",
    "$$\n",
    "\\frac{\\partial E}{\\partial a_2}=a_2-T_i=(w_2a_1+1)-T_i=(9.25*1+1)-5=5.25\\\\\n",
    "\\frac{\\partial E}{\\partial w_2}=5.25*1*1=5.25,\\quad \\frac{\\partial E}{\\partial w_1}=5.25*9.25*(1-1)*1=0\n",
    "$$\n",
    "For $i=6:$\n",
    "$$\n",
    "\\frac{\\partial E}{\\partial a_2}=a_2-T_i=(w_2a_1+1)-T_i=(9.25*1+1)-6=4.25\\\\\n",
    "\\frac{\\partial E}{\\partial w_2}=4.25*1*1=4.25,\\quad \\frac{\\partial E}{\\partial w_1}=4.25*9.25*(1-1)*1=0\n",
    "$$"
   ]
  },
  {
   "cell_type": "markdown",
   "metadata": {},
   "source": [
    "The sum of gradient for the batch training is:\n",
    "$$\\sum_{i}(\\frac{\\partial E}{\\partial w_1})=0$$\n",
    "$$\\sum_{i}(\\frac{\\partial E}{\\partial w_2})=9.25+8.25+7.25+6.25+5.25+4.25=40.5$$\n",
    "Average the sum of gradient by $N=6$ and the step size (learning rate=0.1) can be calculated as:\n",
    "$$s_1=0.1*\\frac{\\sum_{i}(\\frac{\\partial E}{\\partial w_1})}{N}=0$$\n",
    "\n",
    "$$s_2=0.1*\\frac{\\sum_{i}(\\frac{\\partial E}{\\partial w_2})}{N}=0.675$$\n",
    "The new weight $w_1$, $w_2$ and output $a_1$ and $a_2$ can be calculated, The value of $a_1$ and $a_2$ are both for all 6 observations:\n",
    "$$\n",
    "w_1=w_1-s_1=10-0=10,\\\\\n",
    "w_2=w_2-s_2=9.25-0.675=8.575\\\\\n",
    "a_1=\\frac{1}{1+e^{-(w_1p_i+1)}}\\approx1, \\quad i\\in [1,2,3,4,5,6]\\\\\n",
    "a_2=w_2a_1+b=8.575*1+1=9.575\n",
    "$$"
   ]
  },
  {
   "cell_type": "markdown",
   "metadata": {},
   "source": [
    "### Code"
   ]
  },
  {
   "cell_type": "markdown",
   "metadata": {},
   "source": [
    "Below is the code to estimate all weights using batch training, with the stopping criteria as change in loss function less than 0.0001. We can tell the iteration stopped at Iteration 62 and $w_1=10$ while $w_2=2.511$. We can tell that the $w_1$ hardly changes throughout the iterations. I did not show the first 60 iteration results since it makes the report wordy. "
   ]
  },
  {
   "cell_type": "code",
   "execution_count": 5,
   "metadata": {
    "ExecuteTime": {
     "end_time": "2019-10-12T18:22:15.870782Z",
     "start_time": "2019-10-12T18:22:15.852783Z"
    }
   },
   "outputs": [
    {
     "name": "stdout",
     "output_type": "stream",
     "text": [
      "Break out of the loop and the iteration converge at Iteration= 61 \n",
      "The value of loss is: 8.75025313893184 \n",
      "The value of w1 is: 9.999705441446167 \n",
      "The value of w2 is: 2.5109311582607736\n"
     ]
    }
   ],
   "source": [
    "def linear_activation_NN(C, lr, w1, w2, maxiteration):\n",
    "    # C - set the slope of the f2: f2(x)=Cx\n",
    "    # lr - learning rate\n",
    "    # w1 - initial value of w1\n",
    "    # w2 - initial value of w2\n",
    "    # maxiteration - define # of max iteration\n",
    "    a1 = 1 / (1 + np.exp(-(w1 * X_lp[:, 1] + 1)))  # initialize output1 - a1\n",
    "    a2 = C * (w2 * a1 + 1)  # initialize output2 - a2\n",
    "    E0 = sum(0.5 * np.power(y_lp - a2, 2))  # initialize Loss, before 1st iteration\n",
    "    for i in range(maxiteration):\n",
    "        if i > 0:  # Starting 2nd iteration, E1 value will give to E0\n",
    "            E0 = E1  # Loss before iteration\n",
    "        # print(\"Iteration=\", i, \",\", \"Loss value=\", E0)\n",
    "        gradient_2 = np.mean((w2 * a1 + 1 - y_lp) * C * a1)  # calculate gradient for w2\n",
    "        gradient_1 = np.mean(\n",
    "            (w2 * a1 + 1 - y_lp) * C * w2 * a1 * (1 - a1) * X_lp[:, 1])  # use BP to calculate gradient for w1\n",
    "        # gradient_1 = np.mean(gradient_2 * w2 * (1 - a1) * X_lp[:, 1])\n",
    "        step_1 = gradient_1 * lr  # calculate step size\n",
    "        step_2 = gradient_2 * lr\n",
    "        w1 = w1 - step_1  # refresh w1\n",
    "        w2 = w2 - step_2  # refresh w2\n",
    "        a1 = 1 / (1 + np.exp(-(w1 * X_lp[:, 1] + 1)))  # refresh a1\n",
    "        a2 = C * (w2 * a1 + 1)  # refresh a2\n",
    "        E1 = sum(0.5 * np.power(y_lp - a2, 2))  # Loss after iteration\n",
    "\n",
    "        if abs(E0 - E1) <= 0.0001:\n",
    "            print('Break out of the loop and the iteration converge at Iteration=', i,\n",
    "                  '\\nThe value of loss is:', E1,\n",
    "                  '\\nThe value of w1 is:', w1,\n",
    "                  '\\nThe value of w2 is:', w2)\n",
    "            break\n",
    "    return w1, w2, a1, a2, gradient_1, gradient_2\n",
    "\n",
    "w1, w2, a1, a2, gradient_1, gradient_2 = linear_activation_NN(C=1, lr=0.1, w1=10, w2=10, maxiteration=100)"
   ]
  },
  {
   "cell_type": "markdown",
   "metadata": {},
   "source": [
    "Below gives a plot on how the NN model fit to the current sample data points. "
   ]
  },
  {
   "cell_type": "code",
   "execution_count": 6,
   "metadata": {
    "ExecuteTime": {
     "end_time": "2019-10-12T18:22:21.747681Z",
     "start_time": "2019-10-12T18:22:21.579781Z"
    }
   },
   "outputs": [
    {
     "data": {
      "image/png": "[encoded data removed]",
      "text/plain": [
       "<Figure size 432x288 with 1 Axes>"
      ]
     },
     "metadata": {
      "needs_background": "light"
     },
     "output_type": "display_data"
    }
   ],
   "source": [
    "# plot the fit\n",
    "x = np.linspace(-4, 10, 100)\n",
    "y = w2 * (1 / (1 + np.exp(-(w1 * x + 1)))) + 1\n",
    "# plt.close('all')\n",
    "plt.plot(x, y, c='red', label='y = f(w2 * a1 + b)')\n",
    "plt.title('Fitted line using two-layer NN')\n",
    "plt.legend(loc='upper left')\n",
    "plt.scatter(x=ar[1], y=ar[2], c='blue')\n",
    "plt.xlim((-5, 8))\n",
    "plt.ylim((-2, 8))\n",
    "plt.xlabel('x')\n",
    "plt.ylabel('y')\n",
    "plt.show()"
   ]
  },
  {
   "cell_type": "markdown",
   "metadata": {},
   "source": [
    "## Q6 Re-do Q1-Q5"
   ]
  },
  {
   "cell_type": "markdown",
   "metadata": {},
   "source": []
  },
  {
   "cell_type": "markdown",
   "metadata": {},
   "source": [
    "Two additional observations, (2, 3) and (3, 4) are added and below is the scatterplot showing how the data sample looks like. "
   ]
  },
  {
   "cell_type": "code",
   "execution_count": 7,
   "metadata": {
    "ExecuteTime": {
     "end_time": "2019-10-12T18:22:26.843196Z",
     "start_time": "2019-10-12T18:22:26.699267Z"
    }
   },
   "outputs": [
    {
     "data": {
      "image/png": "[encoded data removed]",
      "text/plain": [
       "<Figure size 432x288 with 1 Axes>"
      ]
     },
     "metadata": {
      "needs_background": "light"
     },
     "output_type": "display_data"
    }
   ],
   "source": [
    "ar = np.array([[1, 1, 1, 1, 1, 1, 1, 1],  # intercept\n",
    "               [1, 2, 3, 4, 5, 6, 2, 3],  # x\n",
    "               [1, 2, 3, 4, 5, 6, 3, 4]])  # y\n",
    "\n",
    "# plot the dot points\n",
    "plt.scatter(x=ar[1], y=ar[2], c='blue')\n",
    "plt.title('Visualization of training observations')\n",
    "plt.axis('scaled')\n",
    "plt.show()"
   ]
  },
  {
   "cell_type": "markdown",
   "metadata": {},
   "source": [
    "### Simple Linear Regression"
   ]
  },
  {
   "cell_type": "markdown",
   "metadata": {},
   "source": [
    "The simple linear regression fit similar to Q1 has been conducted as below. The estimated $slope=0.923$ and estimated $intercept=0.5$."
   ]
  },
  {
   "cell_type": "code",
   "execution_count": 8,
   "metadata": {
    "ExecuteTime": {
     "end_time": "2019-10-12T18:22:37.429860Z",
     "start_time": "2019-10-12T18:22:37.408860Z"
    }
   },
   "outputs": [
    {
     "name": "stdout",
     "output_type": "stream",
     "text": [
      "\n",
      "The optimal value of loss is: 1.3846153846153055\n",
      "\n",
      "The estimated of a (slope) is: 0.9230769232893655 \n",
      "The estimate of b (intercept) is: 0.4999999991534938\n"
     ]
    }
   ],
   "source": [
    "# Data preprocessing\n",
    "X_lp = ar[[0, 1], :].T  # transpose the array before modeling\n",
    "y_lp = ar[2].T\n",
    "\n",
    "# Define and solve the CVXPY problem.\n",
    "beta = cp.Variable(X_lp.shape[1])  # return num of cols, 2 in total\n",
    "cost = cp.sum_squares(X_lp * beta - y_lp)  # define cost function\n",
    "obj = cp.Minimize(cost)  # define objective function\n",
    "prob = cp.Problem(obj)\n",
    "prob.solve(solver=cp.CPLEX, verbose=False)\n",
    "# print(\"status:\", prob.status)\n",
    "print(\"\\nThe optimal value of loss is:\", prob.value)\n",
    "print(\"\\nThe estimated of a (slope) is:\", beta.value[1],\n",
    "      \"\\nThe estimate of b (intercept) is:\", beta.value[0])"
   ]
  },
  {
   "cell_type": "markdown",
   "metadata": {},
   "source": [
    "The regression line has been plotted:"
   ]
  },
  {
   "cell_type": "code",
   "execution_count": 9,
   "metadata": {
    "ExecuteTime": {
     "end_time": "2019-10-12T18:22:40.042479Z",
     "start_time": "2019-10-12T18:22:39.889545Z"
    }
   },
   "outputs": [
    {
     "data": {
      "image/png": "[encoded data removed]",
      "text/plain": [
       "<Figure size 432x288 with 1 Axes>"
      ]
     },
     "metadata": {
      "needs_background": "light"
     },
     "output_type": "display_data"
    }
   ],
   "source": [
    "# Plot the fit\n",
    "x = np.linspace(0, 10, 100)\n",
    "y = beta.value[1] * x + beta.value[0]\n",
    "plt.close('all')\n",
    "plt.plot(x, y, c='red', label='y = ax + b')\n",
    "plt.title('Fitted line using simple LR')\n",
    "plt.legend(loc='upper left')\n",
    "plt.scatter(x=ar[1], y=ar[2], c='blue')\n",
    "plt.axis('scaled')\n",
    "plt.show()"
   ]
  },
  {
   "cell_type": "markdown",
   "metadata": {},
   "source": [
    "### Fuzzy Linear Regression"
   ]
  },
  {
   "cell_type": "markdown",
   "metadata": {},
   "source": [
    "The fuzzy linear regression fit similar to Q2 has been conducted as below. We can see that some spread was estimated for the intercept $A0$ because we are unable to fit the data perfectly this time and there will have to be some spread to cover the data points around the regression line. "
   ]
  },
  {
   "cell_type": "code",
   "execution_count": 10,
   "metadata": {
    "ExecuteTime": {
     "end_time": "2019-10-12T18:22:51.231465Z",
     "start_time": "2019-10-12T18:22:51.202498Z"
    }
   },
   "outputs": [
    {
     "name": "stdout",
     "output_type": "stream",
     "text": [
      "\n",
      "The optimal value of loss is: 8.0\n",
      "\n",
      "The center of A1 (slope) is: 0.9999999999999999 \n",
      "The spread of A1 (slope) is: 0.0 \n",
      "The center of A0 (intercept) is: 0.5 \n",
      "The spread of A0 (intercept) is: 1.0\n"
     ]
    }
   ],
   "source": [
    "# Define threshold h (it has same meaning as the alpha in alpha-cut). Higher the h, wider the spread.\n",
    "h = 0.5\n",
    "# Define and solve the CVXPY problem.\n",
    "c = cp.Variable(X_lp.shape[1])  # for spread variables, A0 and A1\n",
    "alpha = cp.Variable(X_lp.shape[1])  # for center/core variables, A0 and A1\n",
    "cost = cp.sum(X_lp * c)  # define cost function\n",
    "obj = cp.Minimize(cost)  # define objective function\n",
    "constraints = [c >= 0,\n",
    "               y_lp <= (1 - h) * abs(X_lp) * c + X_lp * alpha,  # abs operate on each elements of X_lp\n",
    "               -y_lp <= (1 - h) * abs(X_lp) * c - X_lp * alpha]\n",
    "\n",
    "prob = cp.Problem(obj, constraints)\n",
    "prob.solve(solver=cp.CPLEX, verbose=False)\n",
    "# print(\"status:\", prob.status)\n",
    "print(\"\\nThe optimal value of loss is:\", prob.value)\n",
    "print(\"\\nThe center of A1 (slope) is:\", alpha.value[1],\n",
    "      \"\\nThe spread of A1 (slope) is:\", c.value[1],\n",
    "      \"\\nThe center of A0 (intercept) is:\", alpha.value[0],\n",
    "      \"\\nThe spread of A0 (intercept) is:\", c.value[0])"
   ]
  },
  {
   "cell_type": "markdown",
   "metadata": {},
   "source": [
    "The regression line has been plotted, along with the fuzzy spread. "
   ]
  },
  {
   "cell_type": "code",
   "execution_count": 20,
   "metadata": {
    "ExecuteTime": {
     "end_time": "2019-10-12T18:42:11.162116Z",
     "start_time": "2019-10-12T18:42:10.996212Z"
    }
   },
   "outputs": [
    {
     "data": {
      "image/png": "[encoded data removed]",
      "text/plain": [
       "<Figure size 432x288 with 1 Axes>"
      ]
     },
     "metadata": {
      "needs_background": "light"
     },
     "output_type": "display_data"
    }
   ],
   "source": [
    "x = np.linspace(0, 10, 100)\n",
    "y = alpha.value[1] * x + alpha.value[0]\n",
    "plt.close('all')\n",
    "plt.plot(x, y, c='red', label='y = A1x + A0')\n",
    "y = (alpha.value[1] + c.value[1]) * x + alpha.value[0] + c.value[0]\n",
    "plt.plot(x, y, '--g', label='Fuzzy Spread')\n",
    "y = (alpha.value[1] - c.value[1]) * x + alpha.value[0] - c.value[0]\n",
    "plt.plot(x, y, '--g')\n",
    "plt.title('Fitted line using Fuzzy LR')\n",
    "plt.legend(loc='upper left')\n",
    "plt.scatter(x=ar[1], y=ar[2], c='blue')\n",
    "plt.axis('scaled')\n",
    "plt.show()"
   ]
  },
  {
   "cell_type": "markdown",
   "metadata": {},
   "source": [
    "### Support Vector Regression"
   ]
  },
  {
   "cell_type": "markdown",
   "metadata": {},
   "source": [
    "The support vector regression fit similar to Q3 has been conducted as below. Here a simpler version of SVR is used with $\\epsilon$ has been set to 1:\n",
    "$$\n",
    "minimize \\quad \\frac{1}{2}||w||^2$$\n",
    "\n",
    "$$\n",
    "subject\\, to=\\left\\{\n",
    "\\begin{aligned}\n",
    "y_i-(w \\cdot x_i)-b\\le\\epsilon\\\\\n",
    "(w \\cdot x_i)-b\\le\\epsilon-y_i\\le\\epsilon\\\\\n",
    "\\end{aligned}\n",
    "\\right.\n",
    "$$\n",
    "\n",
    "The fitted line and the hard margin has been plotted above the training set as well. The estimated $w=0.6$ and $b=1.4$."
   ]
  },
  {
   "cell_type": "code",
   "execution_count": 17,
   "metadata": {
    "ExecuteTime": {
     "end_time": "2019-10-06T21:10:42.966962Z",
     "start_time": "2019-10-06T21:10:42.781067Z"
    }
   },
   "outputs": [
    {
     "name": "stdout",
     "output_type": "stream",
     "text": [
      "\n",
      "The estimate of w is: 0.6000000017139642 \n",
      "The estimate of b is: 1.3999999940011307\n"
     ]
    },
    {
     "data": {
      "image/png": "[encoded data removed]",
      "text/plain": [
       "<Figure size 432x288 with 1 Axes>"
      ]
     },
     "metadata": {
      "needs_background": "light"
     },
     "output_type": "display_data"
    }
   ],
   "source": [
    "# A simplified version without introducing the slack variables ξi and ξ*i\n",
    "epsilon = 1\n",
    "bw = cp.Variable(X_lp.shape[1])  # for b and w parameters in SVR. bw[0]=b, bw[1]=w\n",
    "cost = 1 / 2 * bw[1] ** 2\n",
    "obj = cp.Minimize(cost)\n",
    "constraints = [\n",
    "    y_lp <= X_lp * bw + epsilon,\n",
    "    -y_lp <= -(X_lp * bw) + epsilon]\n",
    "prob = cp.Problem(obj, constraints)\n",
    "prob.solve(solver=cp.CPLEX, verbose=False)\n",
    "# print(\"status:\", prob.status)\n",
    "print(\"\\nThe estimate of w is:\", bw.value[1],\n",
    "      \"\\nThe estimate of b is:\", bw.value[0], )\n",
    "\n",
    "upper = X_lp[:, 1] * bw.value[1] + bw.value[0] + epsilon # upper bound of the margin\n",
    "lower = X_lp[:, 1] * bw.value[1] + bw.value[0] - epsilon # lower bound of the margin\n",
    "plt.close('all')\n",
    "x = np.linspace(.5, 6, 100)\n",
    "y = bw.value[1] * x + bw.value[0]\n",
    "plt.plot(x, y, c='red', label='y = wx + b')\n",
    "x = [[min(X_lp[:, 1]), max(X_lp[:, 1])]]\n",
    "y = [[min(lower), max(lower)]]\n",
    "for i in range(len(x)):\n",
    "    plt.plot(x[i], y[i], '--g')\n",
    "y = [[min(upper), max(upper)]]\n",
    "for i in range(len(x)):\n",
    "    plt.plot(x[i], y[i], '--g', label='margin')\n",
    "plt.title('Fitted line using SVR')\n",
    "plt.legend(loc='upper left')\n",
    "plt.scatter(x=ar[1], y=ar[2], c='blue')\n",
    "plt.axis('scaled')\n",
    "plt.show()"
   ]
  },
  {
   "cell_type": "markdown",
   "metadata": {},
   "source": [
    "### Single-layer NN"
   ]
  },
  {
   "cell_type": "markdown",
   "metadata": {},
   "source": [
    "#### First two iterations illustration"
   ]
  },
  {
   "cell_type": "markdown",
   "metadata": {},
   "source": [
    "Similar to the Q4, \n",
    "**For the 1st iteration**, with initial value $w=10$:\n",
    "\n",
    "$$\n",
    "\\frac{\\partial E}{\\partial a}=a-T=5(wp_i+1)-T_i\\\\\n",
    "\\frac{\\partial f}{\\partial x}=5$$\n",
    "$$\\frac{\\partial x_1}{\\partial w}=p_1=1$$\n",
    "$$\\vdots$$\n",
    "$$\\frac{\\partial x_6}{\\partial w}=p_6=6$$\n",
    "$$\\frac{\\partial x_7}{\\partial w}=p_7=2$$\n",
    "$$\\frac{\\partial x_8}{\\partial w}=p_8=3$$\n",
    "\n",
    "For $i=1$,\n",
    "$$\n",
    "\\frac{\\partial E}{\\partial a}=a_i-T_i=5(wp_i+1)-T_i=5(10*1+1)-1=54\\\\\n",
    "\\frac{\\partial E}{\\partial w}=54*5*1$$\n",
    "For $i=2$,\n",
    "$$\n",
    "\\frac{\\partial E}{\\partial a}=a_i-T_i=5(wp_i+1)-T_i=5(10*2+1)-2=103\\\\\n",
    "\\frac{\\partial E}{\\partial w}=103*5*2$$\n",
    "For $i=3$,\n",
    "$$\n",
    "\\frac{\\partial E}{\\partial a}=a_i-T_i=5(wp_i+1)-T_i=5(10*3+1)-3=152\\\\\n",
    "\\frac{\\partial E}{\\partial w}=152*5*3$$\n",
    "For $i=4$,\n",
    "$$\n",
    "\\frac{\\partial E}{\\partial a}=a_i-T_i=5(wp_i+1)-T_i=5(10*4+1)-4=201\\\\\n",
    "\\frac{\\partial E}{\\partial w}=201*5*4$$\n",
    "For $i=5$,\n",
    "$$\n",
    "\\frac{\\partial E}{\\partial a}=a_i-T_i=5(wp_i+1)-T_i=5(10*5+1)-5=250\\\\\n",
    "\\frac{\\partial E}{\\partial w}=250*5*5$$\n",
    "For $i=6$,\n",
    "$$\n",
    "\\frac{\\partial E}{\\partial a}=a_i-T_i=5(wp_i+1)-T_i=5(10*6+1)-6=299\\\\\n",
    "\\frac{\\partial E}{\\partial w}=299*5*6$$\n",
    "For $i=7$,\n",
    "$$\n",
    "\\frac{\\partial E}{\\partial a}=a_i-T_i=5(wp_i+1)-T_i=5(10*2+1)-3=102\\\\\n",
    "\\frac{\\partial E}{\\partial w}=102*5*2$$\n",
    "For $i=8$,\n",
    "$$\n",
    "\\frac{\\partial E}{\\partial a}=a_i-T_i=5(wp_i+1)-T_i=5(10*3+1)-4=151\\\\\n",
    "\\frac{\\partial E}{\\partial w}=151*5*3$$\n",
    "\n",
    "\n",
    "The sum of gradient for the batch training is:\n",
    "$$\\sum_{i}(\\frac{\\partial E}{\\partial w})=26105\n",
    "$$\n",
    "Average the sum of gradient by $N=8$ and the step size (learning rate=0.1) can be calculated as:\n",
    "$$s_1=0.1*\\frac{\\sum_{i}(\\frac{\\partial E}{\\partial w})}{N}=326.3125\n",
    "$$."
   ]
  },
  {
   "cell_type": "markdown",
   "metadata": {},
   "source": [
    "The new $w$ and output $a$ is calculated:\n",
    "$$w=10-326.3125=-316.3125\\\\\n",
    "a=[-1576.562, -3158.125, -4739.688, -6321.25 , -7902.812, -9484.375, -3158.125, -4739.688]\n",
    "$$"
   ]
  },
  {
   "cell_type": "markdown",
   "metadata": {},
   "source": [
    "**For the 2nd iteration,** similar steps have been conducted as the 1st iteration and:\n",
    "\n",
    "The sum of gradient for the batch training is:\n",
    "$$\\sum_{i}(\\frac{\\partial E}{\\partial w})=-822307.5\n",
    "$$\n",
    "Average the sum of gradient by $N=8$ and the step size (learning rate=0.1) can be calculated as:\n",
    "$$s_1=0.1*\\frac{\\sum_{i}(\\frac{\\partial E}{\\partial w})}{N}=-10278.844\n",
    "$$"
   ]
  },
  {
   "cell_type": "markdown",
   "metadata": {},
   "source": [
    "The new $w$ and output $a$ is calculated:\n",
    "$$w=-316.3125-(−10278.844)=9962.531\\\\\n",
    "a=[49817.656, 99630.312, 149442.969, 199255.625, 249068.281, 298880.938, 99630.312, 149442.969]\n",
    "$$"
   ]
  },
  {
   "cell_type": "markdown",
   "metadata": {},
   "source": [
    "#### Code"
   ]
  },
  {
   "cell_type": "markdown",
   "metadata": {},
   "source": [
    "Similar to Q4, **We can tell from the above that throughout the first 2 iterations, the updated fit $a$ more and more far away from the actual value. This is because of the learning rate=0.1 was set to be too large and cause the result to be oscillating and won't be able to converge.** Further discussion has been made in Q7 to explore for a proper learning rate in this case. \n",
    "\n",
    "From the code below, after 30 iterations the loss function value becomes larger and larger and won't be able to converge, which further proves the findings. "
   ]
  },
  {
   "cell_type": "code",
   "execution_count": 13,
   "metadata": {
    "ExecuteTime": {
     "end_time": "2019-10-06T14:38:05.309012Z",
     "start_time": "2019-10-06T14:38:05.291042Z"
    }
   },
   "outputs": [
    {
     "name": "stdout",
     "output_type": "stream",
     "text": [
      "Iteration= 0 , Loss value= 131068.0\n",
      "Iteration= 1 , Loss value= 130036482.140625\n",
      "Iteration= 2 , Loss value= 129028683663.17578\n",
      "Iteration= 3 , Loss value= 128028711349045.31\n",
      "Iteration= 4 , Loss value= 1.2703648883607445e+17\n",
      "Iteration= 5 , Loss value= 1.2605195604759488e+20\n",
      "Iteration= 6 , Loss value= 1.2507505338822601e+23\n",
      "Iteration= 7 , Loss value= 1.2410572172446726e+26\n",
      "Iteration= 8 , Loss value= 1.2314390238110266e+29\n",
      "Iteration= 9 , Loss value= 1.2218953713764914e+32\n",
      "Iteration= 10 , Loss value= 1.2124256822483233e+35\n",
      "Iteration= 11 , Loss value= 1.2030293832108986e+38\n",
      "Iteration= 12 , Loss value= 1.193705905491014e+41\n",
      "Iteration= 13 , Loss value= 1.1844546847234587e+44\n",
      "Iteration= 14 , Loss value= 1.1752751609168519e+47\n",
      "Iteration= 15 , Loss value= 1.1661667784197463e+50\n",
      "Iteration= 16 , Loss value= 1.157128985886993e+53\n",
      "Iteration= 17 , Loss value= 1.1481612362463688e+56\n",
      "Iteration= 18 , Loss value= 1.1392629866654596e+59\n",
      "Iteration= 19 , Loss value= 1.130433698518803e+62\n",
      "Iteration= 20 , Loss value= 1.121672837355282e+65\n",
      "Iteration= 21 , Loss value= 1.112979872865779e+68\n",
      "Iteration= 22 , Loss value= 1.104354278851069e+71\n",
      "Iteration= 23 , Loss value= 1.0957955331899727e+74\n",
      "Iteration= 24 , Loss value= 1.0873031178077507e+77\n",
      "Iteration= 25 , Loss value= 1.0788765186447404e+80\n",
      "Iteration= 26 , Loss value= 1.0705152256252437e+83\n",
      "Iteration= 27 , Loss value= 1.0622187326266482e+86\n",
      "Iteration= 28 , Loss value= 1.0539865374487916e+89\n",
      "Iteration= 29 , Loss value= 1.0458181417835635e+92\n"
     ]
    }
   ],
   "source": [
    "w, a, gradient = single_layer_NN(lr=0.1, w=10, maxiteration=30)"
   ]
  },
  {
   "cell_type": "markdown",
   "metadata": {},
   "source": [
    "### Two-layer NN"
   ]
  },
  {
   "cell_type": "markdown",
   "metadata": {},
   "source": [
    "#### First two iterations illustration"
   ]
  },
  {
   "cell_type": "markdown",
   "metadata": {},
   "source": [
    "The first two iterations calculation is enoughly similar to the Q5.\n",
    "**For the 1st iteration**, \n",
    "\n",
    "$$\n",
    "For\\quad i=1, 2, 3, 4, 5, 6, \\quad a_1=\\frac{1}{1+e^{-(w_1p_i+1)}}\\approx1\\\\\n",
    "$$\n",
    "\n",
    "For $i=1:$\n",
    "$$\n",
    "\\frac{\\partial E}{\\partial a_2}=a_2-T_i=(w_2a_1+1)-T_i=(10*1+1)-1=10\\\\\n",
    "\\frac{\\partial E}{\\partial w_2}=10*1*1=10,\\quad \\frac{\\partial E}{\\partial w_1}=10*10*(1-1)*1=0\n",
    "$$\n",
    "For $i=2:$\n",
    "$$\n",
    "\\frac{\\partial E}{\\partial a_2}=a_2-T_i=(w_2a_1+1)-T_i=(10*1+1)-2=9\\\\\n",
    "\\frac{\\partial E}{\\partial w_2}=9*1*1=9,\\quad \\frac{\\partial E}{\\partial w_1}=9*10*(1-1)*1=0\n",
    "$$\n",
    "For $i=3:$\n",
    "$$\n",
    "\\frac{\\partial E}{\\partial a_2}=a_2-T_i=(w_2a_1+1)-T_i=(10*1+1)-3=8\\\\\n",
    "\\frac{\\partial E}{\\partial w_2}=8*1*1=8,\\quad \\frac{\\partial E}{\\partial w_1}=8*10*(1-1)*1=0\n",
    "$$\n",
    "For $i=4:$\n",
    "$$\n",
    "\\frac{\\partial E}{\\partial a_2}=a_2-T_i=(w_2a_1+1)-T_i=(10*1+1)-4=7\\\\\n",
    "\\frac{\\partial E}{\\partial w_2}=7*1*1=7,\\quad \\frac{\\partial E}{\\partial w_1}=7*10*(1-1)*1=0\n",
    "$$\n",
    "For $i=5:$\n",
    "$$\n",
    "\\frac{\\partial E}{\\partial a_2}=a_2-T_i=(w_2a_1+1)-T_i=(10*1+1)-5=6\\\\\n",
    "\\frac{\\partial E}{\\partial w_2}=6*1*1=6,\\quad \\frac{\\partial E}{\\partial w_1}=6*10*(1-1)*1=0\n",
    "$$\n",
    "For $i=6:$\n",
    "$$\n",
    "\\frac{\\partial E}{\\partial a_2}=a_2-T_i=(w_2a_1+1)-T_i=(10*1+1)-6=5\\\\\n",
    "\\frac{\\partial E}{\\partial w_2}=5*1*1=5,\\quad \\frac{\\partial E}{\\partial w_1}=5*10*(1-1)*1=0\n",
    "$$\n",
    "For $i=7:$\n",
    "$$\n",
    "\\frac{\\partial E}{\\partial a_2}=a_2-T_i=(w_2a_1+1)-T_i=(10*1+1)-3=8\\\\\n",
    "\\frac{\\partial E}{\\partial w_2}=8*1*1=8,\\quad \\frac{\\partial E}{\\partial w_1}=5*10*(1-1)*1=0\n",
    "$$\n",
    "For $i=8:$\n",
    "$$\n",
    "\\frac{\\partial E}{\\partial a_2}=a_2-T_i=(w_2a_1+1)-T_i=(10*1+1)-4=7\\\\\n",
    "\\frac{\\partial E}{\\partial w_2}=7*1*1=7,\\quad \\frac{\\partial E}{\\partial w_1}=5*10*(1-1)*1=0\n",
    "$$"
   ]
  },
  {
   "cell_type": "markdown",
   "metadata": {},
   "source": [
    "The sum of gradient for the batch training is:\n",
    "$$\\sum_{i}(\\frac{\\partial E}{\\partial w_1})=0$$\n",
    "$$\\sum_{i}(\\frac{\\partial E}{\\partial w_2})=10+9+8+7+6+5+8+7=60$$\n",
    "Average the sum of gradient by $N=8$ and the step size (learning rate=0.1) can be calculated as:\n",
    "$$s_1=0.1*\\frac{\\sum_{i}(\\frac{\\partial E}{\\partial w_1})}{N}=0$$\n",
    "\n",
    "$$s_2=0.1*\\frac{\\sum_{i}(\\frac{\\partial E}{\\partial w_2})}{N}=0.75$$"
   ]
  },
  {
   "cell_type": "markdown",
   "metadata": {},
   "source": [
    "The new weight $w_1$, $w_2$ and output $a_1$ and $a_2$ can be calculated. The value of $a_1$ and $a_2$ are both for all 6 observations. \n",
    "$$\n",
    "w_1=w_1-s_1=10-0=10,\\\\\n",
    "w_2=w_2-s_2=10-0.75=9.25\\\\\n",
    "a_1=\\frac{1}{1+e^{-(w_1p_i+1)}}\\approx1, \\quad i\\in [1,2,3,4,5,6]\\\\\n",
    "a_2=w_2a_1+b=9.25*1+1=10.25\n",
    "$$"
   ]
  },
  {
   "cell_type": "markdown",
   "metadata": {},
   "source": [
    "**For the 1st iteration**, similar steps have been conducted as the 1st iteration and:\n",
    "\n",
    "The sum of gradient for the batch training is:\n",
    "$$\\sum_{i}(\\frac{\\partial E}{\\partial w_1})=0$$\n",
    "$$\\sum_{i}(\\frac{\\partial E}{\\partial w_2})=54$$\n",
    "Average the sum of gradient by $N=6$ and the step size (learning rate=0.1) can be calculated as:\n",
    "$$s_1=0.1*\\frac{\\sum_{i}(\\frac{\\partial E}{\\partial w_1})}{N}=0$$\n",
    "\n",
    "$$s_2=0.1*\\frac{\\sum_{i}(\\frac{\\partial E}{\\partial w_2})}{N}=0.675$$\n",
    "The new weight $w_1$, $w_2$ and output $a_1$ and $a_2$ can be calculated, The value of $a_1$ and $a_2$ are both for all 6 observations:\n",
    "$$\n",
    "w_1=w_1-s_1=10-0=10,\\\\\n",
    "w_2=w_2-s_2=9.25-0.675=8.575\\\\\n",
    "a_1=\\frac{1}{1+e^{-(w_1p_i+1)}}\\approx1, \\quad i\\in [1,2,3,4,5,6]\\\\\n",
    "a_2=w_2a_1+b=8.575*1+1=9.575\n",
    "$$"
   ]
  },
  {
   "cell_type": "markdown",
   "metadata": {},
   "source": [
    "#### Code"
   ]
  },
  {
   "cell_type": "markdown",
   "metadata": {},
   "source": [
    "Below is the code to estimate all weights using batch training, with the stopping criteria as change in loss function less than 0.0001. We can tell the iteration stopped at Iteration 62 and $w_1=10$ while $w_2=2.51$. We can tell that the $w_1$ hardly changes throughout the iterations. I did not show the first 60 iteration results since it makes the report wordy. \n",
    "\n",
    "One thing we can tell is, comparing to Q5, the fitted $w_1$ and $w_2$ are almost the same even thought we added two more points to the training set. Also a plot has been given to see how well the 2-layer NN model fit to the 8 sample data points. As we see, they are not fitted well. "
   ]
  },
  {
   "cell_type": "code",
   "execution_count": 18,
   "metadata": {
    "ExecuteTime": {
     "end_time": "2019-10-06T21:11:07.896008Z",
     "start_time": "2019-10-06T21:11:07.733107Z"
    }
   },
   "outputs": [
    {
     "name": "stdout",
     "output_type": "stream",
     "text": [
      "Break out of the loop and the iteration converge at Iteration= 62 \n",
      "The value of loss is: 9.000281744024555 \n",
      "The value of w1 is: 9.99977776141952 \n",
      "The value of w2 is: 2.509835868561764\n"
     ]
    },
    {
     "data": {
      "image/png": "[encoded data removed]",
      "text/plain": [
       "<Figure size 432x288 with 1 Axes>"
      ]
     },
     "metadata": {
      "needs_background": "light"
     },
     "output_type": "display_data"
    }
   ],
   "source": [
    "w1, w2, a1, a2, gradient_1, gradient_2 = linear_activation_NN(C=1, lr=0.1, w1=10, w2=10, maxiteration=100)\n",
    "\n",
    "# plot the fit\n",
    "x = np.linspace(-4, 10, 100)\n",
    "y = w2 * (1 / (1 + np.exp(-(w1 * x + 1)))) + 1\n",
    "# plt.close('all')\n",
    "plt.plot(x, y, c='red', label='y = f(w2 * a1 + b)')\n",
    "plt.title('Fitted line using two-layer NN')\n",
    "plt.legend(loc='upper left')\n",
    "plt.scatter(x=ar[1], y=ar[2], c='blue')\n",
    "plt.xlim((-5, 8))\n",
    "plt.ylim((-2, 8))\n",
    "plt.xlabel('x')\n",
    "plt.ylabel('y')\n",
    "plt.show()"
   ]
  },
  {
   "cell_type": "markdown",
   "metadata": {},
   "source": [
    "## Q7 Discussion"
   ]
  },
  {
   "cell_type": "markdown",
   "metadata": {},
   "source": [
    "The detailed comments for Q1, Q2, Q3, Q5 and Q6 have been made in each section respectively. Here the convergence issue in Q4 and Q6 (the Single-layer NN) will be discussed. "
   ]
  },
  {
   "cell_type": "markdown",
   "metadata": {},
   "source": [
    "### Discussion of Convergence Issue"
   ]
  },
  {
   "cell_type": "markdown",
   "metadata": {},
   "source": [
    "As mentioned in Q4, throughout the first 2 iterations, the updated fit $a$ more and more far away from the actual value. From the code after running 30 iterations, the loss function value becomes larger and larger and won't be able to converge. This is because of the learning rate=0.1 was set to be too large and cause the result to be oscillating and won't be able to converge. In below, the learning rate has been adjusted to 0.001 and the algorithm converged after 23 iterations with loss function value=`14.423`.\n",
    "\n",
    "The fit has been plotted against the sample data points. "
   ]
  },
  {
   "cell_type": "code",
   "execution_count": 19,
   "metadata": {
    "ExecuteTime": {
     "end_time": "2019-10-06T21:11:16.085151Z",
     "start_time": "2019-10-06T21:11:15.908254Z"
    }
   },
   "outputs": [
    {
     "name": "stdout",
     "output_type": "stream",
     "text": [
      "Iteration= 0 , Loss value= 114465.5\n",
      "Iteration= 1 , Loss value= 44127.76263888889\n",
      "Iteration= 2 , Loss value= 17017.205223020348\n",
      "Iteration= 3 , Loss value= 6567.873882921439\n",
      "Iteration= 4 , Loss value= 2540.34601692255\n",
      "Iteration= 5 , Loss value= 987.9997295433596\n",
      "Iteration= 6 , Loss value= 389.672647492919\n",
      "Iteration= 7 , Loss value= 159.05703032969262\n",
      "Iteration= 8 , Loss value= 70.16992413801223\n",
      "Iteration= 9 , Loss value= 35.90980878104183\n",
      "Iteration= 10 , Loss value= 22.70479452687343\n",
      "Iteration= 11 , Loss value= 17.61513269602634\n",
      "Iteration= 12 , Loss value= 15.653403836536127\n",
      "Iteration= 13 , Loss value= 14.897286780814902\n",
      "Iteration= 14 , Loss value= 14.605853538556802\n",
      "Iteration= 15 , Loss value= 14.493525250164922\n",
      "Iteration= 16 , Loss value= 14.450230105536656\n",
      "Iteration= 17 , Loss value= 14.433542683559361\n",
      "Iteration= 18 , Loss value= 14.427110783293427\n",
      "Iteration= 19 , Loss value= 14.424631710067663\n",
      "Iteration= 20 , Loss value= 14.423676190889097\n",
      "Iteration= 21 , Loss value= 14.42330790128349\n",
      "Iteration= 22 , Loss value= 14.423165949937408\n",
      "Break out of the loop and end at Iteration= 22 \n",
      "The value of loss is: 14.423111237058341 \n",
      "The value of w is: -0.03059554675295504\n"
     ]
    },
    {
     "data": {
      "image/png": "[encoded data removed]",
      "text/plain": [
       "<Figure size 432x288 with 1 Axes>"
      ]
     },
     "metadata": {
      "needs_background": "light"
     },
     "output_type": "display_data"
    }
   ],
   "source": [
    "ar = np.array([[1, 1, 1, 1, 1, 1],  # intercept\n",
    "               [1, 2, 3, 4, 5, 6],  # x\n",
    "               [1, 2, 3, 4, 5, 6]])  # y\n",
    "# Data preprocessing\n",
    "X_lp = ar[[0, 1], :].T  # transpose the array before modeling\n",
    "y_lp = ar[2].T\n",
    "\n",
    "# Learning rate has been adjusted to 0.001\n",
    "w, a, gradient = single_layer_NN(lr=0.001, w=10, maxiteration=100)\n",
    "\n",
    "# plot the fit\n",
    "x = np.linspace(0, 10, 100)\n",
    "y = 5 * w * x + 5\n",
    "plt.close('all')\n",
    "plt.plot(x, y, c='red', label='y = f(wx + b)')\n",
    "plt.title('Fitted line using single-layer NN')\n",
    "plt.legend(loc='upper left')\n",
    "plt.scatter(x=ar[1], y=ar[2], c='blue')\n",
    "plt.show()"
   ]
  },
  {
   "cell_type": "markdown",
   "metadata": {},
   "source": [
    "The same experiment has been conducted to the convergence issue in Q6 (single-layer NN). As mentioned in Q6, throughout the first 2 iterations, the updated fit $a$ more and more far away from the actual value. From the code after running 30 iterations, the loss function value becomes larger and larger and won't be able to converge. This is because of the learning rate=0.1 was set to be too large and cause the result to be oscillating and won't be able to converge. In below, the learning rate has been adjusted to 0.001 and the algorithm converged after 26 iterations with loss function value=`15.880`.\n",
    "\n",
    "The fit has been plotted against the sample data points. "
   ]
  },
  {
   "cell_type": "code",
   "execution_count": 20,
   "metadata": {
    "ExecuteTime": {
     "end_time": "2019-10-06T21:11:21.292144Z",
     "start_time": "2019-10-06T21:11:21.125241Z"
    }
   },
   "outputs": [
    {
     "name": "stdout",
     "output_type": "stream",
     "text": [
      "Iteration= 0 , Loss value= 131068.0\n",
      "Iteration= 1 , Loss value= 59726.50207031248\n",
      "Iteration= 2 , Loss value= 27221.532076098625\n",
      "Iteration= 3 , Loss value= 12411.455122484942\n",
      "Iteration= 4 , Loss value= 5663.613810494699\n",
      "Iteration= 5 , Loss value= 2589.1286127191474\n",
      "Iteration= 6 , Loss value= 1188.3162944826613\n",
      "Iteration= 7 , Loss value= 550.0711819861626\n",
      "Iteration= 8 , Loss value= 259.27075260494536\n",
      "Iteration= 9 , Loss value= 126.77480696812822\n",
      "Iteration= 10 , Loss value= 66.40634173735343\n",
      "Iteration= 11 , Loss value= 38.900959766581664\n",
      "Iteration= 12 , Loss value= 26.36882010614876\n",
      "Iteration= 13 , Loss value= 20.658863973364035\n",
      "Iteration= 14 , Loss value= 18.05726521036399\n",
      "Iteration= 15 , Loss value= 16.87191177397209\n",
      "Iteration= 16 , Loss value= 16.331835114516036\n",
      "Iteration= 17 , Loss value= 16.085762686551366\n",
      "Iteration= 18 , Loss value= 15.973645936559972\n",
      "Iteration= 19 , Loss value= 15.922562742345136\n",
      "Iteration= 20 , Loss value= 15.899287961980999\n",
      "Iteration= 21 , Loss value= 15.888683390177597\n",
      "Iteration= 22 , Loss value= 15.883851682149666\n",
      "Iteration= 23 , Loss value= 15.881650235179443\n",
      "Iteration= 24 , Loss value= 15.880647200903631\n",
      "Iteration= 25 , Loss value= 15.880190193411718\n",
      "Iteration= 26 , Loss value= 15.879981969373212\n",
      "Break out of the loop and end at Iteration= 26 \n",
      "The value of loss is: 15.87988709729567 \n",
      "The value of w is: -0.04013747016418152\n"
     ]
    },
    {
     "data": {
      "image/png": "[encoded data removed]",
      "text/plain": [
       "<Figure size 432x288 with 1 Axes>"
      ]
     },
     "metadata": {
      "needs_background": "light"
     },
     "output_type": "display_data"
    }
   ],
   "source": [
    "ar = np.array([[1, 1, 1, 1, 1, 1, 1, 1],  # intercept\n",
    "               [1, 2, 3, 4, 5, 6, 2, 3],  # x\n",
    "               [1, 2, 3, 4, 5, 6, 3, 4]])  # y\n",
    "# Data preprocessing\n",
    "X_lp = ar[[0, 1], :].T  # transpose the array before modeling\n",
    "y_lp = ar[2].T\n",
    "\n",
    "# Learning rate has been adjusted to 0.001\n",
    "w, a, gradient = single_layer_NN(lr=0.001, w=10, maxiteration=100)\n",
    "\n",
    "# plot the fit\n",
    "x = np.linspace(0, 10, 100)\n",
    "y = 5 * w * x + 5\n",
    "plt.close('all')\n",
    "plt.plot(x, y, c='red', label='y = f(wx + b)')\n",
    "plt.title('Fitted line using single-layer NN')\n",
    "plt.legend(loc='upper left')\n",
    "plt.scatter(x=ar[1], y=ar[2], c='blue')\n",
    "plt.show()"
   ]
  },
  {
   "cell_type": "markdown",
   "metadata": {},
   "source": [
    "## Q8 Bonus Question"
   ]
  },
  {
   "cell_type": "markdown",
   "metadata": {},
   "source": [
    "I attempt to add two points aiming at balancing out the effect of the two additional points added in Q6. The (2,1) and (3,2) have been added. \n",
    "\n",
    "**All four models (Simple Linear Regression, Fuzzy Linear Regression, Support Vector Regression and Single-layer NN) all lead to the same fitted line and they give the same predictions for x = 1, 2, 3, 4, 5, and 6. The prediction results are y = 1, 2, 3, 4, 5, and 6 respectively.**\n",
    "\n",
    "The training observations look like the graph below. "
   ]
  },
  {
   "cell_type": "code",
   "execution_count": 21,
   "metadata": {
    "ExecuteTime": {
     "end_time": "2019-10-12T18:43:13.208408Z",
     "start_time": "2019-10-12T18:43:13.062492Z"
    }
   },
   "outputs": [
    {
     "data": {
      "image/png": "[encoded data removed]",
      "text/plain": [
       "<Figure size 432x288 with 1 Axes>"
      ]
     },
     "metadata": {
      "needs_background": "light"
     },
     "output_type": "display_data"
    }
   ],
   "source": [
    "ar = np.array([[1, 1, 1, 1, 1, 1, 1, 1, 1, 1],  # intercept\n",
    "               [1, 2, 3, 4, 5, 6, 2, 3, 2, 3],  # x\n",
    "               [1, 2, 3, 4, 5, 6, 3, 4, 1, 2]])  # y\n",
    "# plot the dot points\n",
    "plt.scatter(x=ar[1], y=ar[2], c='blue')\n",
    "plt.title('Visualization of training observations')\n",
    "plt.axis('scaled')\n",
    "plt.show()\n",
    "X_lp = ar[[0, 1], :].T  # transpose the array before modeling\n",
    "y_lp = ar[2].T"
   ]
  },
  {
   "cell_type": "markdown",
   "metadata": {},
   "source": [
    "### Simple Linear Regression"
   ]
  },
  {
   "cell_type": "markdown",
   "metadata": {},
   "source": [
    "For Simple Linear Regression, the same model in Q1 is used. The estimated a is 1 and b is 0:"
   ]
  },
  {
   "cell_type": "code",
   "execution_count": 22,
   "metadata": {
    "ExecuteTime": {
     "end_time": "2019-10-12T18:43:38.115319Z",
     "start_time": "2019-10-12T18:43:37.933440Z"
    }
   },
   "outputs": [
    {
     "name": "stdout",
     "output_type": "stream",
     "text": [
      "\n",
      "The optimal value of loss is: 4.000000000000197\n",
      "\n",
      "The estimated of a (slope) is: 0.9999999992746318 \n",
      "The estimate of b (intercept) is: 2.732524248538759e-09\n"
     ]
    },
    {
     "data": {
      "image/png": "[encoded data removed]",
      "text/plain": [
       "<Figure size 432x288 with 1 Axes>"
      ]
     },
     "metadata": {
      "needs_background": "light"
     },
     "output_type": "display_data"
    }
   ],
   "source": [
    "# Define and solve the CVXPY problem.\n",
    "beta = cp.Variable(X_lp.shape[1])  # return num of cols, 2 in total\n",
    "cost = cp.sum_squares(X_lp * beta - y_lp)  # define cost function\n",
    "obj = cp.Minimize(cost)  # define objective function\n",
    "prob = cp.Problem(obj)\n",
    "prob.solve(solver=cp.CPLEX, verbose=False)\n",
    "# print(\"status:\", prob.status)\n",
    "print(\"\\nThe optimal value of loss is:\", prob.value)\n",
    "print(\"\\nThe estimated of a (slope) is:\", beta.value[1],\n",
    "      \"\\nThe estimate of b (intercept) is:\", beta.value[0])\n",
    "# Plot the fit\n",
    "x = np.linspace(0, 10, 100)\n",
    "y = beta.value[1] * x + beta.value[0]\n",
    "plt.close('all')\n",
    "plt.plot(x, y, c='red', label='y = ax + b')\n",
    "plt.title('Fitted line using simple LR')\n",
    "plt.legend(loc='upper left')\n",
    "plt.scatter(x=ar[1], y=ar[2], c='blue')\n",
    "plt.axis('scaled')\n",
    "plt.show()"
   ]
  },
  {
   "cell_type": "markdown",
   "metadata": {
    "ExecuteTime": {
     "end_time": "2019-10-12T18:43:47.336098Z",
     "start_time": "2019-10-12T18:43:47.333084Z"
    }
   },
   "source": [
    "### Fuzzy Linear Regression"
   ]
  },
  {
   "cell_type": "markdown",
   "metadata": {},
   "source": [
    "For Fuzzy Linear Regression, the same model has been used from Q6. The estimated $A0=0$ with spread=2 and $A1=1$ with spread=0."
   ]
  },
  {
   "cell_type": "code",
   "execution_count": 25,
   "metadata": {
    "ExecuteTime": {
     "end_time": "2019-10-12T18:44:00.479234Z",
     "start_time": "2019-10-12T18:44:00.253365Z"
    }
   },
   "outputs": [
    {
     "name": "stdout",
     "output_type": "stream",
     "text": [
      "\n",
      "The optimal value of loss is: 20.0\n",
      "\n",
      "The center of A1 (slope) is: 1.0 \n",
      "The spread of A1 (slope) is: 0.0 \n",
      "The center of A0 (intercept) is: 0.0 \n",
      "The spread of A0 (intercept) is: 2.0\n"
     ]
    },
    {
     "data": {
      "image/png": "[encoded data removed]",
      "text/plain": [
       "<Figure size 432x288 with 1 Axes>"
      ]
     },
     "metadata": {
      "needs_background": "light"
     },
     "output_type": "display_data"
    }
   ],
   "source": [
    "# Define threshold h (it has same meaning as the alpha in alpha-cut). Higher the h, wider the spread.\n",
    "h = 0.5\n",
    "# Define and solve the CVXPY problem.\n",
    "c = cp.Variable(X_lp.shape[1])  # for spread variables, A0 and A1\n",
    "alpha = cp.Variable(X_lp.shape[1])  # for center/core variables, A0 and A1\n",
    "cost = cp.sum(X_lp * c)  # define cost function\n",
    "obj = cp.Minimize(cost)  # define objective function\n",
    "constraints = [c >= 0,\n",
    "               y_lp <= (1 - h) * abs(X_lp) * c + X_lp * alpha,  # abs operate on each elements of X_lp\n",
    "               -y_lp <= (1 - h) * abs(X_lp) * c - X_lp * alpha]\n",
    "\n",
    "prob = cp.Problem(obj, constraints)\n",
    "prob.solve(solver=cp.CPLEX, verbose=False)\n",
    "# print(\"status:\", prob.status)\n",
    "print(\"\\nThe optimal value of loss is:\", prob.value)\n",
    "print(\"\\nThe center of A1 (slope) is:\", alpha.value[1],\n",
    "      \"\\nThe spread of A1 (slope) is:\", c.value[1],\n",
    "      \"\\nThe center of A0 (intercept) is:\", alpha.value[0],\n",
    "      \"\\nThe spread of A0 (intercept) is:\", c.value[0])\n",
    "\n",
    "# Plot the FR fit\n",
    "x = np.linspace(0, 10, 100)\n",
    "y = alpha.value[1] * x + alpha.value[0]\n",
    "plt.close('all')\n",
    "plt.plot(x, y, c='red', label='y = A1x + A0')\n",
    "y = (alpha.value[1] + c.value[1]) * x + alpha.value[0] + c.value[0]\n",
    "plt.plot(x, y, '--g', label='Fuzzy Spread')\n",
    "y = (alpha.value[1] - c.value[1]) * x + alpha.value[0] - c.value[0]\n",
    "plt.plot(x, y, '--g')\n",
    "plt.title('Fitted line using Fuzzy LR')\n",
    "plt.legend(loc='upper left')\n",
    "plt.scatter(x=ar[1], y=ar[2], c='blue')\n",
    "plt.axis('scaled')\n",
    "plt.show()"
   ]
  },
  {
   "cell_type": "markdown",
   "metadata": {},
   "source": [
    "### Support Vector Regression"
   ]
  },
  {
   "cell_type": "markdown",
   "metadata": {},
   "source": [
    "For Support Vector Regression, the same model has been used from Q6 with $\\epsilon$ been set to 1. The estimated $w$ is 1 and $b$ is 0. "
   ]
  },
  {
   "cell_type": "code",
   "execution_count": 26,
   "metadata": {
    "ExecuteTime": {
     "end_time": "2019-10-12T18:44:17.149642Z",
     "start_time": "2019-10-12T18:44:16.935754Z"
    }
   },
   "outputs": [
    {
     "name": "stdout",
     "output_type": "stream",
     "text": [
      "\n",
      "SVR result:\n",
      "The estimate of w is: 1.0 \n",
      "The estimate of b is: -0.0\n"
     ]
    },
    {
     "data": {
      "image/png": "[encoded data removed]",
      "text/plain": [
       "<Figure size 432x288 with 1 Axes>"
      ]
     },
     "metadata": {
      "needs_background": "light"
     },
     "output_type": "display_data"
    }
   ],
   "source": [
    "epsilon = 1\n",
    "bw = cp.Variable(X_lp.shape[1])  # for b and w parameters in SVR. bw[0]=b, bw[1]=w\n",
    "cost = 1 / 2 * bw[1] ** 2\n",
    "obj = cp.Minimize(cost)\n",
    "constraints = [\n",
    "    y_lp <= X_lp * bw + epsilon,\n",
    "    -y_lp <= -(X_lp * bw) + epsilon]\n",
    "prob = cp.Problem(obj, constraints)\n",
    "prob.solve(solver=cp.CPLEX, verbose=False)\n",
    "# print(\"status:\", prob.status)\n",
    "print(\"\\nSVR result:\")\n",
    "print(\"The estimate of w is:\", bw.value[1],\n",
    "      \"\\nThe estimate of b is:\", bw.value[0], )\n",
    "\n",
    "# Plot the SVR fit\n",
    "upper = X_lp[:, 1] * bw.value[1] + bw.value[0] + epsilon  # upper bound of the margin\n",
    "lower = X_lp[:, 1] * bw.value[1] + bw.value[0] - epsilon  # lower bound of the margin\n",
    "\n",
    "x = np.linspace(.5, 6, 100)\n",
    "y = bw.value[1] * x + bw.value[0]\n",
    "plt.plot(x, y, c='red', label='y = wx + b')\n",
    "x = [[min(X_lp[:, 1]), max(X_lp[:, 1])]]\n",
    "y = [[min(lower), max(lower)]]\n",
    "for i in range(len(x)):\n",
    "    plt.plot(x[i], y[i], '--g')\n",
    "y = [[min(upper), max(upper)]]\n",
    "for i in range(len(x)):\n",
    "    plt.plot(x[i], y[i], '--g', label='margin')\n",
    "plt.title('Fitted line using SVR')\n",
    "plt.legend(loc='upper left')\n",
    "plt.scatter(x=ar[1], y=ar[2], c='blue')\n",
    "plt.axis('scaled')\n",
    "plt.show()"
   ]
  },
  {
   "cell_type": "markdown",
   "metadata": {},
   "source": [
    "### Single-layer NN"
   ]
  },
  {
   "cell_type": "markdown",
   "metadata": {},
   "source": [
    "For single-layer NN, I use the same structure in Q4 ***with the bias set to 0***. As discussed in Q7, I set the learning rate=0.001 and the algorithm converge at iteration 30. The estimated $w$ is 0.2. The fitted line with the training sample points are plotted."
   ]
  },
  {
   "cell_type": "code",
   "execution_count": 26,
   "metadata": {
    "ExecuteTime": {
     "end_time": "2019-10-06T21:11:54.973825Z",
     "start_time": "2019-10-06T21:11:54.788928Z"
    }
   },
   "outputs": [
    {
     "name": "stdout",
     "output_type": "stream",
     "text": [
      "Iteration= 0 , Loss value= 140460.5\n",
      "Iteration= 1 , Loss value= 70309.380040625\n",
      "Iteration= 2 , Loss value= 35194.79850046009\n",
      "Iteration= 3 , Loss value= 17617.975244395926\n",
      "Iteration= 4 , Loss value= 8819.78650842766\n",
      "Iteration= 5 , Loss value= 4415.798147959143\n",
      "Iteration= 6 , Loss value= 2211.3542491993735\n",
      "Iteration= 7 , Loss value= 1107.9060779008041\n",
      "Iteration= 8 , Loss value= 555.5681992062342\n",
      "Iteration= 9 , Loss value= 279.0920219139255\n",
      "Iteration= 10 , Loss value= 140.70014339415238\n",
      "Iteration= 11 , Loss value= 71.42722365183917\n",
      "Iteration= 12 , Loss value= 36.75223071907594\n",
      "Iteration= 13 , Loss value= 19.39544628787546\n",
      "Iteration= 14 , Loss value= 10.707399360935359\n",
      "Iteration= 15 , Loss value= 6.358543171362202\n",
      "Iteration= 16 , Loss value= 4.181696025320171\n",
      "Iteration= 17 , Loss value= 3.092061581074171\n",
      "Iteration= 18 , Loss value= 2.546638249791558\n",
      "Iteration= 19 , Loss value= 2.273623192422225\n",
      "Iteration= 20 , Loss value= 2.136963799111898\n",
      "Iteration= 21 , Loss value= 2.0685580856692054\n",
      "Iteration= 22 , Loss value= 2.0343171782697556\n",
      "Iteration= 23 , Loss value= 2.017177678065291\n",
      "Iteration= 24 , Loss value= 2.008598394116069\n",
      "Iteration= 25 , Loss value= 2.0043039799147615\n",
      "Iteration= 26 , Loss value= 2.0021543840462086\n",
      "Iteration= 27 , Loss value= 2.00107839039923\n",
      "Iteration= 28 , Loss value= 2.0005397950542743\n",
      "Iteration= 29 , Loss value= 2.000270197788136\n",
      "Iteration= 30 , Loss value= 2.0001352491915876\n",
      "Break out of the loop and end at Iteration= 30 \n",
      "The value of loss is: 2.000067699828157 \n",
      "The value of w is: 0.20021515222701822\n"
     ]
    },
    {
     "data": {
      "image/png": "[encoded data removed]",
      "text/plain": [
       "<Figure size 432x288 with 1 Axes>"
      ]
     },
     "metadata": {
      "needs_background": "light"
     },
     "output_type": "display_data"
    }
   ],
   "source": [
    "def single_layer_NN(lr, w, maxiteration, bias=1):\n",
    "    \"\"\"lr - learning rate\\n\n",
    "    w - initial value of w\\n\n",
    "    maxiteration - define # of max iteration\\n\n",
    "    bias - default is 1 \"\"\"\n",
    "    E0 = sum(0.5 * np.power((y_lp - 5 * (w * X_lp[:, 1] + bias)), 2))  # initialize Loss, before 1st iteration\n",
    "    for i in range(maxiteration):\n",
    "        if i > 0:  # Starting 2nd iteration, E1 value give to E0\n",
    "            E0 = E1  # Loss before iteration\n",
    "        print(\"Iteration=\", i, \",\", \"Loss value=\", E0)\n",
    "        gradient = np.mean((5 * (w * X_lp[:, 1] + bias) - y_lp) * 5 * X_lp[:, 1])  # calculate gradient\n",
    "        step = gradient * lr  # calculate step size\n",
    "        w = w - step  # refresh the weight\n",
    "        E1 = sum(0.5 * np.power((5 * (w * X_lp[:, 1] + bias) - y_lp), 2))  # Loss after iteration\n",
    "        a = 5 * (w * X_lp[:, 1] + 1)  # the refreshed output\n",
    "\n",
    "        if abs(E0 - E1) <= 0.0001:\n",
    "            print('Break out of the loop and end at Iteration=', i,\n",
    "                  '\\nThe value of loss is:', E1,\n",
    "                  '\\nThe value of w is:', w)\n",
    "            break\n",
    "    return w, a, gradient\n",
    "\n",
    "w, a, gradient = single_layer_NN(lr=0.001, w=10, maxiteration=40, bias=0)\n",
    "\n",
    "# plot the NN fit\n",
    "x = np.linspace(0, 10, 100)\n",
    "y = 5 * w * x + 0\n",
    "plt.close('all')\n",
    "plt.plot(x, y, c='red', label='y = f(wx + b)')\n",
    "plt.title('Fitted line using single-layer NN')\n",
    "plt.legend(loc='upper left')\n",
    "plt.scatter(x=ar[1], y=ar[2], c='blue')\n",
    "plt.axis('scaled')\n",
    "plt.show()"
   ]
  }
 ],
 "metadata": {
  "kernelspec": {
   "display_name": "Python 3",
   "language": "python",
   "name": "python3"
  },
  "language_info": {
   "codemirror_mode": {
    "name": "ipython",
    "version": 3
   },
   "file_extension": ".py",
   "mimetype": "text/x-python",
   "name": "python",
   "nbconvert_exporter": "python",
   "pygments_lexer": "ipython3",
   "version": "3.8.3"
  },
  "toc": {
   "base_numbering": 1,
   "nav_menu": {
    "height": "164px",
    "width": "201px"
   },
   "number_sections": false,
   "sideBar": true,
   "skip_h1_title": false,
   "title_cell": "CI Midterm",
   "title_sidebar": "CI Midterm",
   "toc_cell": true,
   "toc_position": {
    "height": "calc(100% - 180px)",
    "left": "10px",
    "top": "150px",
    "width": "220px"
   },
   "toc_section_display": false,
   "toc_window_display": true
  },
  "varInspector": {
   "cols": {
    "lenName": 16,
    "lenType": 16,
    "lenVar": 40
   },
   "kernels_config": {
    "python": {
     "delete_cmd_postfix": "",
     "delete_cmd_prefix": "del ",
     "library": "var_list.py",
     "varRefreshCmd": "print(var_dic_list())"
    },
    "r": {
     "delete_cmd_postfix": ") ",
     "delete_cmd_prefix": "rm(",
     "library": "var_list.r",
     "varRefreshCmd": "cat(var_dic_list()) "
    }
   },
   "types_to_exclude": [
    "module",
    "function",
    "builtin_function_or_method",
    "instance",
    "_Feature"
   ],
   "window_display": false
  }
 },
 "nbformat": 4,
 "nbformat_minor": 2
}
