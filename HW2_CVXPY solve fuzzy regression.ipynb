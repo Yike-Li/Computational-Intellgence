{
 "cells": [
  {
   "cell_type": "markdown",
   "metadata": {},
   "source": [
    "# CI HW2"
   ]
  },
  {
   "cell_type": "markdown",
   "metadata": {},
   "source": [
    "## Q1"
   ]
  },
  {
   "cell_type": "markdown",
   "metadata": {},
   "source": [
    "The CPLEX solver has been used to solve the linear programming problem. Per *Tanaka and Watada, 1988*, the objective has been identified as the sum of all spreads (c) at each observation. "
   ]
  },
  {
   "cell_type": "code",
   "execution_count": 1,
   "metadata": {
    "ExecuteTime": {
     "end_time": "2019-09-14T16:44:13.710330Z",
     "start_time": "2019-09-14T16:44:12.933777Z"
    }
   },
   "outputs": [
    {
     "name": "stdout",
     "output_type": "stream",
     "text": [
      "CPXPARAM_Read_DataCheck                          1\n",
      "Tried aggregator 1 time.\n",
      "LP Presolve eliminated 16 rows and 0 columns.\n",
      "Reduced LP has 8 rows, 4 columns, and 28 nonzeros.\n",
      "Presolve time = 0.00 sec. (0.02 ticks)\n",
      "\n",
      "Iteration log . . .\n",
      "Iteration:     1   Dual objective     =             0.000000\n",
      "status: optimal\n",
      "\n",
      "The optimal value is 36.5\n",
      "\n",
      "The predictor center is [0.75] \n",
      "The Intercept center is 1.7500000000000002\n",
      "\n",
      "The predictor spread is [0.5] \n",
      "The Intercept spread is 2.4999999999999996\n"
     ]
    }
   ],
   "source": [
    "%matplotlib inline\n",
    "import numpy as np\n",
    "import pandas as pd\n",
    "import cvxpy as cp\n",
    "import matplotlib.pyplot as plt\n",
    "\n",
    "ar = np.array([[1, 1, 1, 1, 1, 1, 1, 1, 1, 1, 1], # intercept\n",
    "               [0, 0, 1, 1, 1, 2, 2, 2, 3, 3, 3], # x\n",
    "               [1, 3, 1, 2, 4, 3, 4, 5, 2, 5, 6]]) # y\n",
    "X_lp = ar[[0, 1], :].T\n",
    "X_lp.shape\n",
    "y_lp = ar[2].T\n",
    "y_lp.shape\n",
    "\n",
    "# Test 1, sum of all c's at each obs\n",
    "# Define threshold. Higher the h, wider the spread\n",
    "h = 0.5\n",
    "# Define and solve the CVXPY problem.\n",
    "c = cp.Variable(X_lp.shape[1])  # for spread variables\n",
    "alpha = cp.Variable(X_lp.shape[1])  # for center/core variables\n",
    "cost = cp.sum(X_lp * c)  # define cost function\n",
    "obj = cp.Minimize(cost)  # define objective function\n",
    "constraints = [c >= 0,\n",
    "               y_lp <= (1 - h) * abs(X_lp) * c + X_lp * alpha,  # abs operate on each elements of X_lp\n",
    "               -y_lp <= (1 - h) * abs(X_lp) * c - X_lp * alpha]\n",
    "\n",
    "prob = cp.Problem(obj, constraints)\n",
    "prob.solve(solver=cp.CPLEX, verbose=True)\n",
    "print(\"status:\", prob.status)\n",
    "print(\"\\nThe optimal value is\", prob.value)  # print optimal value\n",
    "print(\"\\nThe predictor center is\", alpha.value[1:X_lp.shape[1]],\n",
    "      \"\\nThe Intercept center is\", alpha.value[0])\n",
    "print(\"\\nThe predictor spread is\", c.value[1:X_lp.shape[1]],\n",
    "      \"\\nThe Intercept spread is\", c.value[0])"
   ]
  },
  {
   "cell_type": "markdown",
   "metadata": {},
   "source": [
    "Also per *Tanaka et al., 1982*, the objective function of sum of predictors' spread was tried out. In fact both objective functions gives the same result as of the predictor center and the spread. "
   ]
  },
  {
   "cell_type": "code",
   "execution_count": 2,
   "metadata": {
    "ExecuteTime": {
     "end_time": "2019-09-14T16:44:13.761302Z",
     "start_time": "2019-09-14T16:44:13.712330Z"
    }
   },
   "outputs": [
    {
     "name": "stdout",
     "output_type": "stream",
     "text": [
      "CPXPARAM_Read_DataCheck                          1\n",
      "Tried aggregator 1 time.\n",
      "LP Presolve eliminated 16 rows and 0 columns.\n",
      "Reduced LP has 8 rows, 4 columns, and 28 nonzeros.\n",
      "Presolve time = 0.00 sec. (0.02 ticks)\n",
      "\n",
      "Iteration log . . .\n",
      "Iteration:     1   Dual objective     =             0.000000\n",
      "status: optimal\n",
      "\n",
      "The optimal value is 3.0\n",
      "\n",
      "The predictor center is [0.75] \n",
      "The Intercept center is 1.7500000000000002\n",
      "\n",
      "The predictor spread is [0.5] \n",
      "The Intercept spread is 2.4999999999999996\n"
     ]
    }
   ],
   "source": [
    "# Test 2, sum of c's\n",
    "# Define threshold. Higher the h, wider the spread\n",
    "h = 0.5\n",
    "# Define and solve the CVXPY problem.\n",
    "c = cp.Variable(X_lp.shape[1])  # for spread variables\n",
    "alpha = cp.Variable(X_lp.shape[1])  # for center/core variables\n",
    "cost = cp.sum(c)  # define cost function\n",
    "obj = cp.Minimize(cost)  # define objective function\n",
    "constraints = [c >= 0,\n",
    "               y_lp <= (1 - h) * abs(X_lp) * c + X_lp * alpha,  # abs operate on each elements of X_lp\n",
    "               -y_lp <= (1 - h) * abs(X_lp) * c - X_lp * alpha]\n",
    "\n",
    "prob = cp.Problem(obj, constraints)\n",
    "prob.solve(solver=cp.CPLEX, verbose=True)\n",
    "print(\"status:\", prob.status)\n",
    "print(\"\\nThe optimal value is\", prob.value)  # print optimal value\n",
    "print(\"\\nThe predictor center is\", alpha.value[1:X_lp.shape[1]],\n",
    "      \"\\nThe Intercept center is\", alpha.value[0])\n",
    "print(\"\\nThe predictor spread is\", c.value[1:X_lp.shape[1]],\n",
    "      \"\\nThe Intercept spread is\", c.value[0])"
   ]
  },
  {
   "cell_type": "markdown",
   "metadata": {},
   "source": [
    "## Q2"
   ]
  },
  {
   "cell_type": "markdown",
   "metadata": {},
   "source": [
    "Take the model I was using for the 30-sec jump rope count forecast in HW1. Below is the linear regression part along with the forecast result. The predicted weekly record using Linear regression is: `132.02`. "
   ]
  },
  {
   "cell_type": "code",
   "execution_count": 3,
   "metadata": {
    "ExecuteTime": {
     "end_time": "2019-09-14T16:44:14.121097Z",
     "start_time": "2019-09-14T16:44:13.762290Z"
    }
   },
   "outputs": [
    {
     "name": "stdout",
     "output_type": "stream",
     "text": [
      "Intercept            122.790936\n",
      "C(weekend)[T.Yes]      1.707586\n",
      "logtrend               2.308767\n",
      "dtype: float64\n",
      "The predicted weekly record using Linear regression is: 132.020707449649\n"
     ]
    }
   ],
   "source": [
    "### Linear regression:\n",
    "# Prepare for the training data\n",
    "rope = pd.read_excel('data/HW1 Data.xlsx')\n",
    "rope = rope.drop(columns=['Name'])\n",
    "rope = rope.fillna(0)\n",
    "# Date preprocessing\n",
    "rope = rope.loc[rope['Weight'] != 1].drop(columns=['Weight'])  # remove Weight=1 rows\n",
    "rope['week_num'] = rope['Timestamp'].dt.week  # add week of year col\n",
    "rope['weekday'] = rope['Timestamp'].dt.dayofweek  # add weekday col\n",
    "rope['weekend'] = (rope['weekday'] > 4).astype(float).map({1: 'Yes', 0: 'No'})  # add weekend indicator col\n",
    "rope['DOY'] = rope['Timestamp'].dt.dayofyear  # add day of year col\n",
    "rope['weekly_max'] = rope.groupby(['Subject', 'week_num'])['Count'].transform(max)\n",
    "rope['daily_max'] = rope.groupby(['Subject', 'DOY'])['Count'].transform(max)\n",
    "# Subset rows only when count=daily_max\n",
    "rope = rope.loc[rope['Count'] == rope['daily_max']]\n",
    "rope_30 = rope.loc[rope['Subject'] == '30 seconds'].drop(columns=['Subject'])\n",
    "rope_30 = rope_30.loc[rope_30['DOY'] > 200] # choose only DOY>200 data\n",
    "\n",
    "import macros as mac\n",
    "import statsmodels.formula.api as smf\n",
    "rope_30 = mac.add_trend(rope_30)  # add trend and logtrend\n",
    "res_30 = smf.ols(formula='daily_max ~ logtrend + C(weekend)', data=rope_30).fit()\n",
    "fcst_30 = mac.forecastset(ip=rope_30)  # forecast dataset for 30 secs\n",
    "pred_30 = res_30.predict(fcst_30)  # predict on test set\n",
    "\n",
    "print(res_30.params)\n",
    "print('The predicted weekly record using Linear regression is:', max(pred_30))"
   ]
  },
  {
   "cell_type": "markdown",
   "metadata": {},
   "source": [
    "Implement the fuzzy regression model and use the solver to solve the linear programming problem. The two predicters are `weekend indicator` and `logtrend`. The estimated center along with the spread is calculated as below. The forecast using Fuzzy regression is: `129.65`."
   ]
  },
  {
   "cell_type": "code",
   "execution_count": 4,
   "metadata": {
    "ExecuteTime": {
     "end_time": "2019-09-14T16:44:14.157062Z",
     "start_time": "2019-09-14T16:44:14.123083Z"
    }
   },
   "outputs": [
    {
     "name": "stdout",
     "output_type": "stream",
     "text": [
      "status: optimal\n",
      "\n",
      "The optimal value is 6.276133944081227\n",
      "\n",
      "The predictor center is [4.48158605 0.81606153] \n",
      "The Intercept center is 122.51841395113134\n",
      "\n",
      "The predictor spread is [0.         6.27613394] \n",
      "The Intercept spread is 0.0\n",
      "The predicted weekly record using Fuzzy regression is: 129.6588072535701\n"
     ]
    }
   ],
   "source": [
    "### Fuzzy regression\n",
    "from patsy import dmatrix\n",
    "\n",
    "levels = rope_30.weekend\n",
    "categorical = dmatrix(\"levels\", rope_30.weekend)\n",
    "\n",
    "X_lp = np.hstack((np.array(categorical[:, 0])[np.newaxis].T,  # categorical[:, 0] intercept, T is transform\n",
    "                  np.array(categorical[:, 1])[np.newaxis].T,  # categorical[:, 1] weekend indicator\n",
    "                  np.array(rope_30.logtrend)[np.newaxis].T))\n",
    "y_lp = np.array(rope_30.daily_max, dtype=np.float32)\n",
    "# Define threshold. Higher the h, wider the spread\n",
    "h = 0.5\n",
    "c = cp.Variable(X_lp.shape[1])  # for spread variables\n",
    "alpha = cp.Variable(X_lp.shape[1])  # for center/core variables\n",
    "cost = cp.sum(c)  # define cost function\n",
    "obj = cp.Minimize(cost)  # define objective function\n",
    "constraints = [c >= 0,\n",
    "               y_lp <= (1 - h) * abs(X_lp) * c + X_lp * alpha,  # abs operate on each elements of X_lp\n",
    "               -y_lp <= (1 - h) * abs(X_lp) * c - X_lp * alpha]\n",
    "\n",
    "prob = cp.Problem(obj, constraints)\n",
    "prob.solve(solver=cp.CPLEX)\n",
    "print(\"status:\", prob.status)\n",
    "print(\"\\nThe optimal value is\", prob.value)  # print optimal value\n",
    "print(\"\\nThe predictor center is\", alpha.value[1:X_lp.shape[1]], # [weekend, logtrend]\n",
    "      \"\\nThe Intercept center is\", alpha.value[0])\n",
    "print(\"\\nThe predictor spread is\", c.value[1:X_lp.shape[1]],\n",
    "      \"\\nThe Intercept spread is\", c.value[0])\n",
    "\n",
    "### Predict using fuzzy regression model, intercept+\n",
    "fuzz_fcst_30 = fcst_30[['weekend', 'logtrend']].replace({'Yes': 1, 'No': 0}) # replace Yes with 1\n",
    "fuzz_pred_30=alpha.value[0]+(alpha.value[1:X_lp.shape[1]] * fuzz_fcst_30).sum(axis=1)\n",
    "print('The predicted weekly record using Fuzzy regression is:', max(fuzz_pred_30))"
   ]
  },
  {
   "cell_type": "markdown",
   "metadata": {},
   "source": [
    "## Q3"
   ]
  },
  {
   "cell_type": "markdown",
   "metadata": {},
   "source": [
    "See attached worksheet HW2 Q3.xlsx"
   ]
  },
  {
   "cell_type": "markdown",
   "metadata": {},
   "source": [
    "## Q4"
   ]
  },
  {
   "cell_type": "markdown",
   "metadata": {},
   "source": [
    "### K-means"
   ]
  },
  {
   "cell_type": "markdown",
   "metadata": {},
   "source": [
    "First I implement K-means to cluster Leo's performances. I created a one-dimensional problem by considering the more count of jump ropes (sum of all 3 subjects) each day, the higher productive day it will be. \n",
    "\n",
    "For the weight training period during 4/6-4/24, I calculate the average performance for each subject and compare to the rest of the data set (where weight != 1). The ratio_30, ratio_1 and ratio_3 store the ratio of average performance under weight training vs. non-weight training, for 30-second, 1-min and 3-min subject respectively. \n",
    "\n",
    "Then the weight training observations are adjusted accordingly based on these ratios. This is to interpolate the performances if Leo is under non-weight trainings during these days. "
   ]
  },
  {
   "cell_type": "code",
   "execution_count": 5,
   "metadata": {
    "ExecuteTime": {
     "end_time": "2019-09-14T16:44:14.225501Z",
     "start_time": "2019-09-14T16:44:14.159062Z"
    }
   },
   "outputs": [],
   "source": [
    "import matplotlib.pyplot as plt\n",
    "\n",
    "rope = pd.read_excel('data/HW1 Data.xlsx')\n",
    "rope = rope.drop(columns=['Name'])\n",
    "rope = rope.fillna(0)\n",
    "\n",
    "## Calculate non-weight vs. weight ratio based on the average value under each subject.\n",
    "weight30 = rope[(rope['Weight'] == 1) & (rope['Subject'] == '30 seconds')]  # Weight is 1: 4/6-4/24\n",
    "rope_30 = rope.loc[rope['Subject'] == '30 seconds'].drop(columns=['Subject'])\n",
    "ratio_30 = np.mean(rope_30.Count) / np.mean(weight30.Count)\n",
    "\n",
    "weight1 = rope[(rope['Weight'] == 1) & (rope['Subject'] == '1 minute')]  # Weight is 1: 4/6-4/24\n",
    "rope_1 = rope.loc[rope['Subject'] == '1 minute'].drop(columns=['Subject'])\n",
    "ratio_1 = np.mean(rope_1.Count) / np.mean(weight1.Count)\n",
    "\n",
    "weight3 = rope[(rope['Weight'] == 1) & (rope['Subject'] == '3 minutes')]  # Weight is 1: 4/6-4/24\n",
    "rope_3 = rope.loc[rope['Subject'] == '3 minutes'].drop(columns=['Subject'])\n",
    "ratio_3 = np.mean(rope_3.Count) / np.mean(weight3.Count)\n",
    "\n",
    "## Transform the weighted days data using the ratios and make the adjusted count\n",
    "rope.loc[(rope['Weight'] == 1) & (rope['Subject'] == '30 seconds'), 'Count'] = rope['Count'] * ratio_30\n",
    "rope.loc[(rope['Weight'] == 1) & (rope['Subject'] == '1 minute'), 'Count'] = rope['Count'] * ratio_1\n",
    "rope.loc[(rope['Weight'] == 1) & (rope['Subject'] == '3 minutes'), 'Count'] = rope['Count'] * ratio_3"
   ]
  },
  {
   "cell_type": "markdown",
   "metadata": {},
   "source": [
    "The following implement the K-means method while setting k=2. The cluster membership is drawn for each date. We can see majority of the days are within **Cluster 1 (non-productive)** and some are under the **Cluster 2 (productive)**. "
   ]
  },
  {
   "cell_type": "code",
   "execution_count": 6,
   "metadata": {
    "ExecuteTime": {
     "end_time": "2019-09-14T16:44:14.881119Z",
     "start_time": "2019-09-14T16:44:14.227499Z"
    }
   },
   "outputs": [
    {
     "data": {
      "image/png": "[encoded data removed]",
      "text/plain": [
       "<Figure size 432x288 with 1 Axes>"
      ]
     },
     "metadata": {
      "needs_background": "light"
     },
     "output_type": "display_data"
    }
   ],
   "source": [
    "## Consider it to be a one-dimensional problem.\n",
    "## Cluster the productivity via the total amount of jump rope\n",
    "rope['week_num'] = rope['Timestamp'].dt.week  # add week of year col\n",
    "rope['weekday'] = rope['Timestamp'].dt.dayofweek  # add weekday col\n",
    "rope['weekend'] = (rope['weekday'] > 4).astype(float).map({1: 'Yes', 0: 'No'})  # add weekend indicator col\n",
    "rope['DOY'] = rope['Timestamp'].dt.dayofyear  # add day of year col\n",
    "daily_sum = rope.groupby(['DOY'], as_index=False).sum()  # group by DOY and sum, no index specified\n",
    "\n",
    "from sklearn.cluster import KMeans\n",
    "from datetime import datetime, timedelta\n",
    "from pandas.plotting import register_matplotlib_converters\n",
    "register_matplotlib_converters()\n",
    "\n",
    "counts = daily_sum['Count'].to_numpy().reshape(-1, 1)\n",
    "kmeans = KMeans(n_clusters=2).fit(counts)  # store the model, k=2\n",
    "cluster = kmeans.predict(counts)  # predict to itself, result stored in cluster\n",
    "## cluster result\n",
    "result = pd.concat([daily_sum, pd.Series(cluster, name='cluster')], axis=1)\n",
    "\n",
    "## convert DOY to date\n",
    "result['Date'] = datetime(2019, 1, 1) + result['DOY'].map(timedelta) - timedelta(days=1)\n",
    "result['cluster'] = result['cluster'] + 1 # make to be cluster 1 and 2\n",
    "## Visualize the date clusters\n",
    "plt.scatter('Date', 'cluster', data=result, c='blue')\n",
    "plt.yticks(np.arange(0, 3, 1))\n",
    "plt.axhline(y=1, color='red', linestyle=':', linewidth=1)\n",
    "plt.axhline(y=2, color='red', linestyle=':', linewidth=1)\n",
    "plt.title('K-means clustering, cluster membership')\n",
    "plt.xlabel('Date')\n",
    "plt.ylabel('Cluster #')\n",
    "plt.show()"
   ]
  },
  {
   "cell_type": "markdown",
   "metadata": {},
   "source": [
    "Also the Daily Count at each day has been plotted and the red dots belong to **Cluster 1 (non-productive)** and the blue dots are under the **Cluster 2 (productive)**. The cluster center are shown as below. "
   ]
  },
  {
   "cell_type": "code",
   "execution_count": 7,
   "metadata": {
    "ExecuteTime": {
     "end_time": "2019-09-14T16:44:15.064011Z",
     "start_time": "2019-09-14T16:44:14.882109Z"
    }
   },
   "outputs": [
    {
     "data": {
      "image/png": "[encoded data removed]",
      "text/plain": [
       "<Figure size 432x288 with 1 Axes>"
      ]
     },
     "metadata": {
      "needs_background": "light"
     },
     "output_type": "display_data"
    },
    {
     "name": "stdout",
     "output_type": "stream",
     "text": [
      "Cluster 1 center is:  [1246.66049086]\n",
      "Cluster 2 center is:  [3834.32300418]\n"
     ]
    }
   ],
   "source": [
    "## Visualize the count clusters\n",
    "mask1 = result.cluster == 1\n",
    "mask2 = result.cluster == 2\n",
    "plt.scatter(result.Date[mask1], result.Count[mask1], c='blue')\n",
    "plt.scatter(result.Date[mask2], result.Count[mask2], c='red')\n",
    "plt.axhline(y=kmeans.cluster_centers_[0], color='green', linestyle=':', linewidth=1)\n",
    "plt.axhline(y=kmeans.cluster_centers_[1], color='green', linestyle=':', linewidth=1)\n",
    "plt.title('K-means clustering')\n",
    "plt.xlabel('Date')\n",
    "plt.ylabel('Daily Count')\n",
    "plt.show()\n",
    "print('Cluster 1 center is: ', kmeans.cluster_centers_[0])\n",
    "print('Cluster 2 center is: ', kmeans.cluster_centers_[1])"
   ]
  },
  {
   "cell_type": "markdown",
   "metadata": {},
   "source": [
    "### Fuzzy c-means clustering"
   ]
  },
  {
   "cell_type": "markdown",
   "metadata": {},
   "source": [
    "The Fuzzy c-means clustering has been implemented with m=2 and c=2 (here c means # of clusters). From the picture below, we can see there are some dots moved from **Cluster 1 (non-productive)** to the **Cluster 2 (productive)**. "
   ]
  },
  {
   "cell_type": "code",
   "execution_count": 8,
   "metadata": {
    "ExecuteTime": {
     "end_time": "2019-09-14T16:44:15.227912Z",
     "start_time": "2019-09-14T16:44:15.066006Z"
    }
   },
   "outputs": [
    {
     "data": {
      "image/png": "[encoded data removed]",
      "text/plain": [
       "<Figure size 432x288 with 1 Axes>"
      ]
     },
     "metadata": {
      "needs_background": "light"
     },
     "output_type": "display_data"
    }
   ],
   "source": [
    "import skfuzzy as fuzz\n",
    "\n",
    "counts = daily_sum['Count'].to_numpy()\n",
    "add1row=np.ones(len(counts)) # add a new row to create a 2-dimensional array for input\n",
    "alldata = np.vstack((counts, add1row))\n",
    "center, u, u0, d, jm, p, fpc = fuzz.cluster.cmeans(alldata, c=2, m=2,\n",
    "                                                   error=0.005, maxiter=1000, init=None)\n",
    "cluster_membership = np.argmax(u, axis=0)\n",
    "fuzz_result=pd.concat([result, pd.Series(cluster_membership, name='fuzz_cluster')], axis=1)\n",
    "fuzz_result['fuzz_cluster'] = fuzz_result['fuzz_cluster'] + 1 # make to be cluster 1 and 2\n",
    "\n",
    "## Visualize the date clusters\n",
    "plt.scatter('Date', 'fuzz_cluster', data=fuzz_result, c='blue')\n",
    "plt.yticks(np.arange(0, 3, 1))\n",
    "plt.axhline(y=1, color='red', linestyle=':', linewidth=1)\n",
    "plt.axhline(y=2, color='red', linestyle=':', linewidth=1)\n",
    "plt.title('Fuzzy c-means clustering, cluster membership')\n",
    "plt.xlabel('Date')\n",
    "plt.ylabel('Cluster #')\n",
    "plt.show()"
   ]
  },
  {
   "cell_type": "markdown",
   "metadata": {},
   "source": [
    "Also the Daily Count at each day has been plotted and the red dots belong to **Cluster 1 (non-productive)** and the blue dots are under the **Cluster 2 (productive)**. The cluster center are shown as below. We can tell the centers for the two clusters are lower (smaller) than the ones we obtained from K-means method. "
   ]
  },
  {
   "cell_type": "code",
   "execution_count": 9,
   "metadata": {
    "ExecuteTime": {
     "end_time": "2019-09-14T16:44:15.408987Z",
     "start_time": "2019-09-14T16:44:15.230910Z"
    }
   },
   "outputs": [
    {
     "data": {
      "image/png": "[encoded data removed]",
      "text/plain": [
       "<Figure size 432x288 with 1 Axes>"
      ]
     },
     "metadata": {
      "needs_background": "light"
     },
     "output_type": "display_data"
    },
    {
     "name": "stdout",
     "output_type": "stream",
     "text": [
      "Fuzzy Cluster 1 center is:  1125.5418153881753\n",
      "Fuzzy Cluster 2 center is:  3196.145600057928\n"
     ]
    }
   ],
   "source": [
    "## Visualize the count clusters\n",
    "mask1 = fuzz_result.fuzz_cluster == 1\n",
    "mask2 = fuzz_result.fuzz_cluster == 2\n",
    "plt.scatter(fuzz_result.Date[mask1], fuzz_result.Count[mask1], c='blue')\n",
    "plt.scatter(fuzz_result.Date[mask2], fuzz_result.Count[mask2], c='red')\n",
    "plt.axhline(y=kmeans.cluster_centers_[0], color='green', linestyle=':', linewidth=1)\n",
    "plt.axhline(y=kmeans.cluster_centers_[1], color='green', linestyle=':', linewidth=1)\n",
    "plt.title('Fuzzy c-means clustering')\n",
    "plt.xlabel('Date')\n",
    "plt.ylabel('Daily Count')\n",
    "plt.show()\n",
    "\n",
    "print('Fuzzy Cluster 1 center is: ', center[0][0])\n",
    "print('Fuzzy Cluster 2 center is: ', center[1][0])"
   ]
  },
  {
   "cell_type": "code",
   "execution_count": null,
   "metadata": {},
   "outputs": [],
   "source": []
  }
 ],
 "metadata": {
  "kernelspec": {
   "display_name": "Python 3",
   "language": "python",
   "name": "python3"
  },
  "language_info": {
   "codemirror_mode": {
    "name": "ipython",
    "version": 3
   },
   "file_extension": ".py",
   "mimetype": "text/x-python",
   "name": "python",
   "nbconvert_exporter": "python",
   "pygments_lexer": "ipython3",
   "version": "3.8.3"
  },
  "toc": {
   "base_numbering": 1,
   "nav_menu": {},
   "number_sections": false,
   "sideBar": true,
   "skip_h1_title": true,
   "title_cell": "Table of Contents",
   "title_sidebar": "Contents",
   "toc_cell": false,
   "toc_position": {},
   "toc_section_display": true,
   "toc_window_display": false
  },
  "varInspector": {
   "cols": {
    "lenName": 16,
    "lenType": 16,
    "lenVar": 40
   },
   "kernels_config": {
    "python": {
     "delete_cmd_postfix": "",
     "delete_cmd_prefix": "del ",
     "library": "var_list.py",
     "varRefreshCmd": "print(var_dic_list())"
    },
    "r": {
     "delete_cmd_postfix": ") ",
     "delete_cmd_prefix": "rm(",
     "library": "var_list.r",
     "varRefreshCmd": "cat(var_dic_list()) "
    }
   },
   "types_to_exclude": [
    "module",
    "function",
    "builtin_function_or_method",
    "instance",
    "_Feature"
   ],
   "window_display": false
  }
 },
 "nbformat": 4,
 "nbformat_minor": 2
}
